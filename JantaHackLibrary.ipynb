{
  "nbformat": 4,
  "nbformat_minor": 0,
  "metadata": {
    "colab": {
      "name": "JantaHackLibraryipynb",
      "provenance": [],
      "toc_visible": true,
      "authorship_tag": "ABX9TyMTN1GwwwMVDN6EIWz6wxMI",
      "include_colab_link": true
    },
    "kernelspec": {
      "name": "python3",
      "display_name": "Python 3"
    }
  },
  "cells": [
    {
      "cell_type": "markdown",
      "metadata": {
        "id": "view-in-github",
        "colab_type": "text"
      },
      "source": [
        "<a href=\"https://colab.research.google.com/github/vyassuyog1/Janta-hack1/blob/X-title%2Babstract/JantaHackLibrary.ipynb\" target=\"_parent\"><img src=\"https://colab.research.google.com/assets/colab-badge.svg\" alt=\"Open In Colab\"/></a>"
      ]
    },
    {
      "cell_type": "code",
      "metadata": {
        "id": "-6Kafjzljz0I",
        "colab_type": "code",
        "colab": {
          "base_uri": "https://localhost:8080/",
          "height": 34
        },
        "outputId": "554027f2-cbc7-47a1-c1e1-2350309d73bc"
      },
      "source": [
        "%tensorflow_version 1.x"
      ],
      "execution_count": 1,
      "outputs": [
        {
          "output_type": "stream",
          "text": [
            "TensorFlow 1.x selected.\n"
          ],
          "name": "stdout"
        }
      ]
    },
    {
      "cell_type": "markdown",
      "metadata": {
        "id": "Welb59LPTlDR",
        "colab_type": "text"
      },
      "source": [
        "#Importing Data"
      ]
    },
    {
      "cell_type": "code",
      "metadata": {
        "id": "TII1OAyzTnoN",
        "colab_type": "code",
        "colab": {}
      },
      "source": [
        "import pandas as pd"
      ],
      "execution_count": 2,
      "outputs": []
    },
    {
      "cell_type": "code",
      "metadata": {
        "id": "fakAT84UTynK",
        "colab_type": "code",
        "colab": {
          "base_uri": "https://localhost:8080/",
          "height": 84
        },
        "outputId": "d36845fd-2e18-4558-a157-57cb500fd59c"
      },
      "source": [
        "!unzip '/content/test_8iecVfC.zip'\n",
        "!unzip '/content/train_tGmol3O.zip'"
      ],
      "execution_count": 3,
      "outputs": [
        {
          "output_type": "stream",
          "text": [
            "Archive:  /content/test_8iecVfC.zip\n",
            "  inflating: test.csv                \n",
            "Archive:  /content/train_tGmol3O.zip\n",
            "  inflating: train.csv               \n"
          ],
          "name": "stdout"
        }
      ]
    },
    {
      "cell_type": "code",
      "metadata": {
        "id": "spv52_8vTq_V",
        "colab_type": "code",
        "colab": {
          "base_uri": "https://localhost:8080/",
          "height": 633
        },
        "outputId": "7fab44ff-e7d9-4de2-9eff-8906ce8e60f5"
      },
      "source": [
        "data_train_original=pd.read_csv('/content/train.csv')\n",
        "data_test_original=pd.read_csv('/content/test.csv')\n",
        "data_train=data_train_original.copy()\n",
        "data_train.set_index(['ID'],inplace=True)\n",
        "data_test=data_test_original.copy()\n",
        "data_test.set_index(['ID'],inplace=True)\n",
        "print(data_train.shape,data_test.shape)\n",
        "data_train"
      ],
      "execution_count": 4,
      "outputs": [
        {
          "output_type": "stream",
          "text": [
            "(20972, 8) (8989, 2)\n"
          ],
          "name": "stdout"
        },
        {
          "output_type": "execute_result",
          "data": {
            "text/html": [
              "<div>\n",
              "<style scoped>\n",
              "    .dataframe tbody tr th:only-of-type {\n",
              "        vertical-align: middle;\n",
              "    }\n",
              "\n",
              "    .dataframe tbody tr th {\n",
              "        vertical-align: top;\n",
              "    }\n",
              "\n",
              "    .dataframe thead th {\n",
              "        text-align: right;\n",
              "    }\n",
              "</style>\n",
              "<table border=\"1\" class=\"dataframe\">\n",
              "  <thead>\n",
              "    <tr style=\"text-align: right;\">\n",
              "      <th></th>\n",
              "      <th>TITLE</th>\n",
              "      <th>ABSTRACT</th>\n",
              "      <th>Computer Science</th>\n",
              "      <th>Physics</th>\n",
              "      <th>Mathematics</th>\n",
              "      <th>Statistics</th>\n",
              "      <th>Quantitative Biology</th>\n",
              "      <th>Quantitative Finance</th>\n",
              "    </tr>\n",
              "    <tr>\n",
              "      <th>ID</th>\n",
              "      <th></th>\n",
              "      <th></th>\n",
              "      <th></th>\n",
              "      <th></th>\n",
              "      <th></th>\n",
              "      <th></th>\n",
              "      <th></th>\n",
              "      <th></th>\n",
              "    </tr>\n",
              "  </thead>\n",
              "  <tbody>\n",
              "    <tr>\n",
              "      <th>1</th>\n",
              "      <td>Reconstructing Subject-Specific Effect Maps</td>\n",
              "      <td>Predictive models allow subject-specific inf...</td>\n",
              "      <td>1</td>\n",
              "      <td>0</td>\n",
              "      <td>0</td>\n",
              "      <td>0</td>\n",
              "      <td>0</td>\n",
              "      <td>0</td>\n",
              "    </tr>\n",
              "    <tr>\n",
              "      <th>2</th>\n",
              "      <td>Rotation Invariance Neural Network</td>\n",
              "      <td>Rotation invariance and translation invarian...</td>\n",
              "      <td>1</td>\n",
              "      <td>0</td>\n",
              "      <td>0</td>\n",
              "      <td>0</td>\n",
              "      <td>0</td>\n",
              "      <td>0</td>\n",
              "    </tr>\n",
              "    <tr>\n",
              "      <th>3</th>\n",
              "      <td>Spherical polyharmonics and Poisson kernels fo...</td>\n",
              "      <td>We introduce and develop the notion of spher...</td>\n",
              "      <td>0</td>\n",
              "      <td>0</td>\n",
              "      <td>1</td>\n",
              "      <td>0</td>\n",
              "      <td>0</td>\n",
              "      <td>0</td>\n",
              "    </tr>\n",
              "    <tr>\n",
              "      <th>4</th>\n",
              "      <td>A finite element approximation for the stochas...</td>\n",
              "      <td>The stochastic Landau--Lifshitz--Gilbert (LL...</td>\n",
              "      <td>0</td>\n",
              "      <td>0</td>\n",
              "      <td>1</td>\n",
              "      <td>0</td>\n",
              "      <td>0</td>\n",
              "      <td>0</td>\n",
              "    </tr>\n",
              "    <tr>\n",
              "      <th>5</th>\n",
              "      <td>Comparative study of Discrete Wavelet Transfor...</td>\n",
              "      <td>Fourier-transform infra-red (FTIR) spectra o...</td>\n",
              "      <td>1</td>\n",
              "      <td>0</td>\n",
              "      <td>0</td>\n",
              "      <td>1</td>\n",
              "      <td>0</td>\n",
              "      <td>0</td>\n",
              "    </tr>\n",
              "    <tr>\n",
              "      <th>...</th>\n",
              "      <td>...</td>\n",
              "      <td>...</td>\n",
              "      <td>...</td>\n",
              "      <td>...</td>\n",
              "      <td>...</td>\n",
              "      <td>...</td>\n",
              "      <td>...</td>\n",
              "      <td>...</td>\n",
              "    </tr>\n",
              "    <tr>\n",
              "      <th>20968</th>\n",
              "      <td>Contemporary machine learning: a guide for pra...</td>\n",
              "      <td>Machine learning is finding increasingly bro...</td>\n",
              "      <td>1</td>\n",
              "      <td>1</td>\n",
              "      <td>0</td>\n",
              "      <td>0</td>\n",
              "      <td>0</td>\n",
              "      <td>0</td>\n",
              "    </tr>\n",
              "    <tr>\n",
              "      <th>20969</th>\n",
              "      <td>Uniform diamond coatings on WC-Co hard alloy c...</td>\n",
              "      <td>Polycrystalline diamond coatings have been g...</td>\n",
              "      <td>0</td>\n",
              "      <td>1</td>\n",
              "      <td>0</td>\n",
              "      <td>0</td>\n",
              "      <td>0</td>\n",
              "      <td>0</td>\n",
              "    </tr>\n",
              "    <tr>\n",
              "      <th>20970</th>\n",
              "      <td>Analysing Soccer Games with Clustering and Con...</td>\n",
              "      <td>We present a new approach for identifying si...</td>\n",
              "      <td>1</td>\n",
              "      <td>0</td>\n",
              "      <td>0</td>\n",
              "      <td>0</td>\n",
              "      <td>0</td>\n",
              "      <td>0</td>\n",
              "    </tr>\n",
              "    <tr>\n",
              "      <th>20971</th>\n",
              "      <td>On the Efficient Simulation of the Left-Tail o...</td>\n",
              "      <td>The sum of Log-normal variates is encountere...</td>\n",
              "      <td>0</td>\n",
              "      <td>0</td>\n",
              "      <td>1</td>\n",
              "      <td>1</td>\n",
              "      <td>0</td>\n",
              "      <td>0</td>\n",
              "    </tr>\n",
              "    <tr>\n",
              "      <th>20972</th>\n",
              "      <td>Why optional stopping is a problem for Bayesians</td>\n",
              "      <td>Recently, optional stopping has been a subje...</td>\n",
              "      <td>0</td>\n",
              "      <td>0</td>\n",
              "      <td>1</td>\n",
              "      <td>1</td>\n",
              "      <td>0</td>\n",
              "      <td>0</td>\n",
              "    </tr>\n",
              "  </tbody>\n",
              "</table>\n",
              "<p>20972 rows × 8 columns</p>\n",
              "</div>"
            ],
            "text/plain": [
              "                                                   TITLE  ... Quantitative Finance\n",
              "ID                                                        ...                     \n",
              "1            Reconstructing Subject-Specific Effect Maps  ...                    0\n",
              "2                     Rotation Invariance Neural Network  ...                    0\n",
              "3      Spherical polyharmonics and Poisson kernels fo...  ...                    0\n",
              "4      A finite element approximation for the stochas...  ...                    0\n",
              "5      Comparative study of Discrete Wavelet Transfor...  ...                    0\n",
              "...                                                  ...  ...                  ...\n",
              "20968  Contemporary machine learning: a guide for pra...  ...                    0\n",
              "20969  Uniform diamond coatings on WC-Co hard alloy c...  ...                    0\n",
              "20970  Analysing Soccer Games with Clustering and Con...  ...                    0\n",
              "20971  On the Efficient Simulation of the Left-Tail o...  ...                    0\n",
              "20972   Why optional stopping is a problem for Bayesians  ...                    0\n",
              "\n",
              "[20972 rows x 8 columns]"
            ]
          },
          "metadata": {
            "tags": []
          },
          "execution_count": 4
        }
      ]
    },
    {
      "cell_type": "code",
      "metadata": {
        "id": "YYcmh_NbUc27",
        "colab_type": "code",
        "colab": {
          "base_uri": "https://localhost:8080/",
          "height": 431
        },
        "outputId": "e80d561e-e975-46cc-ab5a-061952a81699"
      },
      "source": [
        "data_test"
      ],
      "execution_count": 5,
      "outputs": [
        {
          "output_type": "execute_result",
          "data": {
            "text/html": [
              "<div>\n",
              "<style scoped>\n",
              "    .dataframe tbody tr th:only-of-type {\n",
              "        vertical-align: middle;\n",
              "    }\n",
              "\n",
              "    .dataframe tbody tr th {\n",
              "        vertical-align: top;\n",
              "    }\n",
              "\n",
              "    .dataframe thead th {\n",
              "        text-align: right;\n",
              "    }\n",
              "</style>\n",
              "<table border=\"1\" class=\"dataframe\">\n",
              "  <thead>\n",
              "    <tr style=\"text-align: right;\">\n",
              "      <th></th>\n",
              "      <th>TITLE</th>\n",
              "      <th>ABSTRACT</th>\n",
              "    </tr>\n",
              "    <tr>\n",
              "      <th>ID</th>\n",
              "      <th></th>\n",
              "      <th></th>\n",
              "    </tr>\n",
              "  </thead>\n",
              "  <tbody>\n",
              "    <tr>\n",
              "      <th>20973</th>\n",
              "      <td>Closed-form Marginal Likelihood in Gamma-Poiss...</td>\n",
              "      <td>We present novel understandings of the Gamma...</td>\n",
              "    </tr>\n",
              "    <tr>\n",
              "      <th>20974</th>\n",
              "      <td>Laboratory mid-IR spectra of equilibrated and ...</td>\n",
              "      <td>Meteorites contain minerals from Solar Syste...</td>\n",
              "    </tr>\n",
              "    <tr>\n",
              "      <th>20975</th>\n",
              "      <td>Case For Static AMSDU Aggregation in WLANs</td>\n",
              "      <td>Frame aggregation is a mechanism by which mu...</td>\n",
              "    </tr>\n",
              "    <tr>\n",
              "      <th>20976</th>\n",
              "      <td>The $Gaia$-ESO Survey: the inner disk intermed...</td>\n",
              "      <td>Milky Way open clusters are very diverse in ...</td>\n",
              "    </tr>\n",
              "    <tr>\n",
              "      <th>20977</th>\n",
              "      <td>Witness-Functions versus Interpretation-Functi...</td>\n",
              "      <td>Proving that a cryptographic protocol is cor...</td>\n",
              "    </tr>\n",
              "    <tr>\n",
              "      <th>...</th>\n",
              "      <td>...</td>\n",
              "      <td>...</td>\n",
              "    </tr>\n",
              "    <tr>\n",
              "      <th>29957</th>\n",
              "      <td>Supporting mixed-datatype matrix multiplicatio...</td>\n",
              "      <td>We approach the problem of implementing mixe...</td>\n",
              "    </tr>\n",
              "    <tr>\n",
              "      <th>29958</th>\n",
              "      <td>An axiomatic basis for Blackwell optimality</td>\n",
              "      <td>In the theory of Markov decision processes (...</td>\n",
              "    </tr>\n",
              "    <tr>\n",
              "      <th>29959</th>\n",
              "      <td>GeneVis - An interactive visualization tool fo...</td>\n",
              "      <td>GeneVis is a web-based tool to visualize com...</td>\n",
              "    </tr>\n",
              "    <tr>\n",
              "      <th>29960</th>\n",
              "      <td>Quantifying the causal effect of speed cameras...</td>\n",
              "      <td>This paper quantifies the effect of speed ca...</td>\n",
              "    </tr>\n",
              "    <tr>\n",
              "      <th>29961</th>\n",
              "      <td>Cube-magic labelings of grids</td>\n",
              "      <td>We show that the vertices and edges of a $d$...</td>\n",
              "    </tr>\n",
              "  </tbody>\n",
              "</table>\n",
              "<p>8989 rows × 2 columns</p>\n",
              "</div>"
            ],
            "text/plain": [
              "                                                   TITLE                                           ABSTRACT\n",
              "ID                                                                                                         \n",
              "20973  Closed-form Marginal Likelihood in Gamma-Poiss...    We present novel understandings of the Gamma...\n",
              "20974  Laboratory mid-IR spectra of equilibrated and ...    Meteorites contain minerals from Solar Syste...\n",
              "20975         Case For Static AMSDU Aggregation in WLANs    Frame aggregation is a mechanism by which mu...\n",
              "20976  The $Gaia$-ESO Survey: the inner disk intermed...    Milky Way open clusters are very diverse in ...\n",
              "20977  Witness-Functions versus Interpretation-Functi...    Proving that a cryptographic protocol is cor...\n",
              "...                                                  ...                                                ...\n",
              "29957  Supporting mixed-datatype matrix multiplicatio...    We approach the problem of implementing mixe...\n",
              "29958        An axiomatic basis for Blackwell optimality    In the theory of Markov decision processes (...\n",
              "29959  GeneVis - An interactive visualization tool fo...    GeneVis is a web-based tool to visualize com...\n",
              "29960  Quantifying the causal effect of speed cameras...    This paper quantifies the effect of speed ca...\n",
              "29961                      Cube-magic labelings of grids    We show that the vertices and edges of a $d$...\n",
              "\n",
              "[8989 rows x 2 columns]"
            ]
          },
          "metadata": {
            "tags": []
          },
          "execution_count": 5
        }
      ]
    },
    {
      "cell_type": "code",
      "metadata": {
        "id": "q_yVtN2rVT8-",
        "colab_type": "code",
        "colab": {
          "base_uri": "https://localhost:8080/",
          "height": 616
        },
        "outputId": "96a447f6-9b05-42ff-ec4d-24770e1ca505"
      },
      "source": [
        "df=pd.concat([data_train,data_test],axis=0)\n",
        "df"
      ],
      "execution_count": 6,
      "outputs": [
        {
          "output_type": "execute_result",
          "data": {
            "text/html": [
              "<div>\n",
              "<style scoped>\n",
              "    .dataframe tbody tr th:only-of-type {\n",
              "        vertical-align: middle;\n",
              "    }\n",
              "\n",
              "    .dataframe tbody tr th {\n",
              "        vertical-align: top;\n",
              "    }\n",
              "\n",
              "    .dataframe thead th {\n",
              "        text-align: right;\n",
              "    }\n",
              "</style>\n",
              "<table border=\"1\" class=\"dataframe\">\n",
              "  <thead>\n",
              "    <tr style=\"text-align: right;\">\n",
              "      <th></th>\n",
              "      <th>TITLE</th>\n",
              "      <th>ABSTRACT</th>\n",
              "      <th>Computer Science</th>\n",
              "      <th>Physics</th>\n",
              "      <th>Mathematics</th>\n",
              "      <th>Statistics</th>\n",
              "      <th>Quantitative Biology</th>\n",
              "      <th>Quantitative Finance</th>\n",
              "    </tr>\n",
              "    <tr>\n",
              "      <th>ID</th>\n",
              "      <th></th>\n",
              "      <th></th>\n",
              "      <th></th>\n",
              "      <th></th>\n",
              "      <th></th>\n",
              "      <th></th>\n",
              "      <th></th>\n",
              "      <th></th>\n",
              "    </tr>\n",
              "  </thead>\n",
              "  <tbody>\n",
              "    <tr>\n",
              "      <th>1</th>\n",
              "      <td>Reconstructing Subject-Specific Effect Maps</td>\n",
              "      <td>Predictive models allow subject-specific inf...</td>\n",
              "      <td>1.0</td>\n",
              "      <td>0.0</td>\n",
              "      <td>0.0</td>\n",
              "      <td>0.0</td>\n",
              "      <td>0.0</td>\n",
              "      <td>0.0</td>\n",
              "    </tr>\n",
              "    <tr>\n",
              "      <th>2</th>\n",
              "      <td>Rotation Invariance Neural Network</td>\n",
              "      <td>Rotation invariance and translation invarian...</td>\n",
              "      <td>1.0</td>\n",
              "      <td>0.0</td>\n",
              "      <td>0.0</td>\n",
              "      <td>0.0</td>\n",
              "      <td>0.0</td>\n",
              "      <td>0.0</td>\n",
              "    </tr>\n",
              "    <tr>\n",
              "      <th>3</th>\n",
              "      <td>Spherical polyharmonics and Poisson kernels fo...</td>\n",
              "      <td>We introduce and develop the notion of spher...</td>\n",
              "      <td>0.0</td>\n",
              "      <td>0.0</td>\n",
              "      <td>1.0</td>\n",
              "      <td>0.0</td>\n",
              "      <td>0.0</td>\n",
              "      <td>0.0</td>\n",
              "    </tr>\n",
              "    <tr>\n",
              "      <th>4</th>\n",
              "      <td>A finite element approximation for the stochas...</td>\n",
              "      <td>The stochastic Landau--Lifshitz--Gilbert (LL...</td>\n",
              "      <td>0.0</td>\n",
              "      <td>0.0</td>\n",
              "      <td>1.0</td>\n",
              "      <td>0.0</td>\n",
              "      <td>0.0</td>\n",
              "      <td>0.0</td>\n",
              "    </tr>\n",
              "    <tr>\n",
              "      <th>5</th>\n",
              "      <td>Comparative study of Discrete Wavelet Transfor...</td>\n",
              "      <td>Fourier-transform infra-red (FTIR) spectra o...</td>\n",
              "      <td>1.0</td>\n",
              "      <td>0.0</td>\n",
              "      <td>0.0</td>\n",
              "      <td>1.0</td>\n",
              "      <td>0.0</td>\n",
              "      <td>0.0</td>\n",
              "    </tr>\n",
              "    <tr>\n",
              "      <th>...</th>\n",
              "      <td>...</td>\n",
              "      <td>...</td>\n",
              "      <td>...</td>\n",
              "      <td>...</td>\n",
              "      <td>...</td>\n",
              "      <td>...</td>\n",
              "      <td>...</td>\n",
              "      <td>...</td>\n",
              "    </tr>\n",
              "    <tr>\n",
              "      <th>29957</th>\n",
              "      <td>Supporting mixed-datatype matrix multiplicatio...</td>\n",
              "      <td>We approach the problem of implementing mixe...</td>\n",
              "      <td>NaN</td>\n",
              "      <td>NaN</td>\n",
              "      <td>NaN</td>\n",
              "      <td>NaN</td>\n",
              "      <td>NaN</td>\n",
              "      <td>NaN</td>\n",
              "    </tr>\n",
              "    <tr>\n",
              "      <th>29958</th>\n",
              "      <td>An axiomatic basis for Blackwell optimality</td>\n",
              "      <td>In the theory of Markov decision processes (...</td>\n",
              "      <td>NaN</td>\n",
              "      <td>NaN</td>\n",
              "      <td>NaN</td>\n",
              "      <td>NaN</td>\n",
              "      <td>NaN</td>\n",
              "      <td>NaN</td>\n",
              "    </tr>\n",
              "    <tr>\n",
              "      <th>29959</th>\n",
              "      <td>GeneVis - An interactive visualization tool fo...</td>\n",
              "      <td>GeneVis is a web-based tool to visualize com...</td>\n",
              "      <td>NaN</td>\n",
              "      <td>NaN</td>\n",
              "      <td>NaN</td>\n",
              "      <td>NaN</td>\n",
              "      <td>NaN</td>\n",
              "      <td>NaN</td>\n",
              "    </tr>\n",
              "    <tr>\n",
              "      <th>29960</th>\n",
              "      <td>Quantifying the causal effect of speed cameras...</td>\n",
              "      <td>This paper quantifies the effect of speed ca...</td>\n",
              "      <td>NaN</td>\n",
              "      <td>NaN</td>\n",
              "      <td>NaN</td>\n",
              "      <td>NaN</td>\n",
              "      <td>NaN</td>\n",
              "      <td>NaN</td>\n",
              "    </tr>\n",
              "    <tr>\n",
              "      <th>29961</th>\n",
              "      <td>Cube-magic labelings of grids</td>\n",
              "      <td>We show that the vertices and edges of a $d$...</td>\n",
              "      <td>NaN</td>\n",
              "      <td>NaN</td>\n",
              "      <td>NaN</td>\n",
              "      <td>NaN</td>\n",
              "      <td>NaN</td>\n",
              "      <td>NaN</td>\n",
              "    </tr>\n",
              "  </tbody>\n",
              "</table>\n",
              "<p>29961 rows × 8 columns</p>\n",
              "</div>"
            ],
            "text/plain": [
              "                                                   TITLE  ... Quantitative Finance\n",
              "ID                                                        ...                     \n",
              "1            Reconstructing Subject-Specific Effect Maps  ...                  0.0\n",
              "2                     Rotation Invariance Neural Network  ...                  0.0\n",
              "3      Spherical polyharmonics and Poisson kernels fo...  ...                  0.0\n",
              "4      A finite element approximation for the stochas...  ...                  0.0\n",
              "5      Comparative study of Discrete Wavelet Transfor...  ...                  0.0\n",
              "...                                                  ...  ...                  ...\n",
              "29957  Supporting mixed-datatype matrix multiplicatio...  ...                  NaN\n",
              "29958        An axiomatic basis for Blackwell optimality  ...                  NaN\n",
              "29959  GeneVis - An interactive visualization tool fo...  ...                  NaN\n",
              "29960  Quantifying the causal effect of speed cameras...  ...                  NaN\n",
              "29961                      Cube-magic labelings of grids  ...                  NaN\n",
              "\n",
              "[29961 rows x 8 columns]"
            ]
          },
          "metadata": {
            "tags": []
          },
          "execution_count": 6
        }
      ]
    },
    {
      "cell_type": "code",
      "metadata": {
        "id": "UEUavcp3VpSq",
        "colab_type": "code",
        "colab": {
          "base_uri": "https://localhost:8080/",
          "height": 235
        },
        "outputId": "9a29d603-6486-480c-bff2-a7e386abaf31"
      },
      "source": [
        "df['train']=[1] * len(data_train) + [0]*len(data_test)\n",
        "df['train']"
      ],
      "execution_count": 7,
      "outputs": [
        {
          "output_type": "execute_result",
          "data": {
            "text/plain": [
              "ID\n",
              "1        1\n",
              "2        1\n",
              "3        1\n",
              "4        1\n",
              "5        1\n",
              "        ..\n",
              "29957    0\n",
              "29958    0\n",
              "29959    0\n",
              "29960    0\n",
              "29961    0\n",
              "Name: train, Length: 29961, dtype: int64"
            ]
          },
          "metadata": {
            "tags": []
          },
          "execution_count": 7
        }
      ]
    },
    {
      "cell_type": "code",
      "metadata": {
        "id": "Gt-CvtXWYSQJ",
        "colab_type": "code",
        "colab": {
          "base_uri": "https://localhost:8080/",
          "height": 616
        },
        "outputId": "85ed37b6-d501-42c5-bf70-f0e3f2a00f23"
      },
      "source": [
        "df"
      ],
      "execution_count": 8,
      "outputs": [
        {
          "output_type": "execute_result",
          "data": {
            "text/html": [
              "<div>\n",
              "<style scoped>\n",
              "    .dataframe tbody tr th:only-of-type {\n",
              "        vertical-align: middle;\n",
              "    }\n",
              "\n",
              "    .dataframe tbody tr th {\n",
              "        vertical-align: top;\n",
              "    }\n",
              "\n",
              "    .dataframe thead th {\n",
              "        text-align: right;\n",
              "    }\n",
              "</style>\n",
              "<table border=\"1\" class=\"dataframe\">\n",
              "  <thead>\n",
              "    <tr style=\"text-align: right;\">\n",
              "      <th></th>\n",
              "      <th>TITLE</th>\n",
              "      <th>ABSTRACT</th>\n",
              "      <th>Computer Science</th>\n",
              "      <th>Physics</th>\n",
              "      <th>Mathematics</th>\n",
              "      <th>Statistics</th>\n",
              "      <th>Quantitative Biology</th>\n",
              "      <th>Quantitative Finance</th>\n",
              "      <th>train</th>\n",
              "    </tr>\n",
              "    <tr>\n",
              "      <th>ID</th>\n",
              "      <th></th>\n",
              "      <th></th>\n",
              "      <th></th>\n",
              "      <th></th>\n",
              "      <th></th>\n",
              "      <th></th>\n",
              "      <th></th>\n",
              "      <th></th>\n",
              "      <th></th>\n",
              "    </tr>\n",
              "  </thead>\n",
              "  <tbody>\n",
              "    <tr>\n",
              "      <th>1</th>\n",
              "      <td>Reconstructing Subject-Specific Effect Maps</td>\n",
              "      <td>Predictive models allow subject-specific inf...</td>\n",
              "      <td>1.0</td>\n",
              "      <td>0.0</td>\n",
              "      <td>0.0</td>\n",
              "      <td>0.0</td>\n",
              "      <td>0.0</td>\n",
              "      <td>0.0</td>\n",
              "      <td>1</td>\n",
              "    </tr>\n",
              "    <tr>\n",
              "      <th>2</th>\n",
              "      <td>Rotation Invariance Neural Network</td>\n",
              "      <td>Rotation invariance and translation invarian...</td>\n",
              "      <td>1.0</td>\n",
              "      <td>0.0</td>\n",
              "      <td>0.0</td>\n",
              "      <td>0.0</td>\n",
              "      <td>0.0</td>\n",
              "      <td>0.0</td>\n",
              "      <td>1</td>\n",
              "    </tr>\n",
              "    <tr>\n",
              "      <th>3</th>\n",
              "      <td>Spherical polyharmonics and Poisson kernels fo...</td>\n",
              "      <td>We introduce and develop the notion of spher...</td>\n",
              "      <td>0.0</td>\n",
              "      <td>0.0</td>\n",
              "      <td>1.0</td>\n",
              "      <td>0.0</td>\n",
              "      <td>0.0</td>\n",
              "      <td>0.0</td>\n",
              "      <td>1</td>\n",
              "    </tr>\n",
              "    <tr>\n",
              "      <th>4</th>\n",
              "      <td>A finite element approximation for the stochas...</td>\n",
              "      <td>The stochastic Landau--Lifshitz--Gilbert (LL...</td>\n",
              "      <td>0.0</td>\n",
              "      <td>0.0</td>\n",
              "      <td>1.0</td>\n",
              "      <td>0.0</td>\n",
              "      <td>0.0</td>\n",
              "      <td>0.0</td>\n",
              "      <td>1</td>\n",
              "    </tr>\n",
              "    <tr>\n",
              "      <th>5</th>\n",
              "      <td>Comparative study of Discrete Wavelet Transfor...</td>\n",
              "      <td>Fourier-transform infra-red (FTIR) spectra o...</td>\n",
              "      <td>1.0</td>\n",
              "      <td>0.0</td>\n",
              "      <td>0.0</td>\n",
              "      <td>1.0</td>\n",
              "      <td>0.0</td>\n",
              "      <td>0.0</td>\n",
              "      <td>1</td>\n",
              "    </tr>\n",
              "    <tr>\n",
              "      <th>...</th>\n",
              "      <td>...</td>\n",
              "      <td>...</td>\n",
              "      <td>...</td>\n",
              "      <td>...</td>\n",
              "      <td>...</td>\n",
              "      <td>...</td>\n",
              "      <td>...</td>\n",
              "      <td>...</td>\n",
              "      <td>...</td>\n",
              "    </tr>\n",
              "    <tr>\n",
              "      <th>29957</th>\n",
              "      <td>Supporting mixed-datatype matrix multiplicatio...</td>\n",
              "      <td>We approach the problem of implementing mixe...</td>\n",
              "      <td>NaN</td>\n",
              "      <td>NaN</td>\n",
              "      <td>NaN</td>\n",
              "      <td>NaN</td>\n",
              "      <td>NaN</td>\n",
              "      <td>NaN</td>\n",
              "      <td>0</td>\n",
              "    </tr>\n",
              "    <tr>\n",
              "      <th>29958</th>\n",
              "      <td>An axiomatic basis for Blackwell optimality</td>\n",
              "      <td>In the theory of Markov decision processes (...</td>\n",
              "      <td>NaN</td>\n",
              "      <td>NaN</td>\n",
              "      <td>NaN</td>\n",
              "      <td>NaN</td>\n",
              "      <td>NaN</td>\n",
              "      <td>NaN</td>\n",
              "      <td>0</td>\n",
              "    </tr>\n",
              "    <tr>\n",
              "      <th>29959</th>\n",
              "      <td>GeneVis - An interactive visualization tool fo...</td>\n",
              "      <td>GeneVis is a web-based tool to visualize com...</td>\n",
              "      <td>NaN</td>\n",
              "      <td>NaN</td>\n",
              "      <td>NaN</td>\n",
              "      <td>NaN</td>\n",
              "      <td>NaN</td>\n",
              "      <td>NaN</td>\n",
              "      <td>0</td>\n",
              "    </tr>\n",
              "    <tr>\n",
              "      <th>29960</th>\n",
              "      <td>Quantifying the causal effect of speed cameras...</td>\n",
              "      <td>This paper quantifies the effect of speed ca...</td>\n",
              "      <td>NaN</td>\n",
              "      <td>NaN</td>\n",
              "      <td>NaN</td>\n",
              "      <td>NaN</td>\n",
              "      <td>NaN</td>\n",
              "      <td>NaN</td>\n",
              "      <td>0</td>\n",
              "    </tr>\n",
              "    <tr>\n",
              "      <th>29961</th>\n",
              "      <td>Cube-magic labelings of grids</td>\n",
              "      <td>We show that the vertices and edges of a $d$...</td>\n",
              "      <td>NaN</td>\n",
              "      <td>NaN</td>\n",
              "      <td>NaN</td>\n",
              "      <td>NaN</td>\n",
              "      <td>NaN</td>\n",
              "      <td>NaN</td>\n",
              "      <td>0</td>\n",
              "    </tr>\n",
              "  </tbody>\n",
              "</table>\n",
              "<p>29961 rows × 9 columns</p>\n",
              "</div>"
            ],
            "text/plain": [
              "                                                   TITLE  ... train\n",
              "ID                                                        ...      \n",
              "1            Reconstructing Subject-Specific Effect Maps  ...     1\n",
              "2                     Rotation Invariance Neural Network  ...     1\n",
              "3      Spherical polyharmonics and Poisson kernels fo...  ...     1\n",
              "4      A finite element approximation for the stochas...  ...     1\n",
              "5      Comparative study of Discrete Wavelet Transfor...  ...     1\n",
              "...                                                  ...  ...   ...\n",
              "29957  Supporting mixed-datatype matrix multiplicatio...  ...     0\n",
              "29958        An axiomatic basis for Blackwell optimality  ...     0\n",
              "29959  GeneVis - An interactive visualization tool fo...  ...     0\n",
              "29960  Quantifying the causal effect of speed cameras...  ...     0\n",
              "29961                      Cube-magic labelings of grids  ...     0\n",
              "\n",
              "[29961 rows x 9 columns]"
            ]
          },
          "metadata": {
            "tags": []
          },
          "execution_count": 8
        }
      ]
    },
    {
      "cell_type": "markdown",
      "metadata": {
        "id": "B9U7pk52VK7C",
        "colab_type": "text"
      },
      "source": [
        "#Reading data"
      ]
    },
    {
      "cell_type": "code",
      "metadata": {
        "id": "2BPoBDu5UsUH",
        "colab_type": "code",
        "colab": {
          "base_uri": "https://localhost:8080/",
          "height": 70
        },
        "outputId": "73ccb945-b202-4a5b-f64d-79e7a6c832e5"
      },
      "source": [
        "df.iloc[10]['ABSTRACT'], df.iloc[10]['TITLE']"
      ],
      "execution_count": 9,
      "outputs": [
        {
          "output_type": "execute_result",
          "data": {
            "text/plain": [
              "('  We present a systematic global sensitivity analysis using the Sobol method\\nwhich can be utilized to rank the variables that affect two quantity of\\ninterests -- pore pressure depletion and stress change -- around a\\nhydraulically-fractured horizontal well based on their degree of importance.\\nThese variables include rock properties and stimulation design variables. A\\nfully-coupled poroelastic hydraulic fracture model is used to account for pore\\npressure and stress changes due to production. To ease the computational cost\\nof a simulator, we also provide reduced order models (ROMs), which can be used\\nto replace the complex numerical model with a rather simple analytical model,\\nfor calculating the pore pressure and stresses at different locations around\\nhydraulic fractures. The main findings of this research are: (i) mobility,\\nproduction pressure, and fracture half-length are the main contributors to the\\nchanges in the quantities of interest. The percentage of the contribution of\\neach parameter depends on the location with respect to pre-existing hydraulic\\nfractures and the quantity of interest. (ii) As the time progresses, the effect\\nof mobility decreases and the effect of production pressure increases. (iii)\\nThese two variables are also dominant for horizontal stresses at large\\ndistances from hydraulic fractures. (iv) At zones close to hydraulic fracture\\ntips or inside the spacing area, other parameters such as fracture spacing and\\nhalf-length are the dominant factors that affect the minimum horizontal stress.\\nThe results of this study will provide useful guidelines for the stimulation\\ndesign of legacy wells and secondary operations such as refracturing and infill\\ndrilling.\\n',\n",
              " 'A global sensitivity analysis and reduced order models for hydraulically-fractured horizontal wells')"
            ]
          },
          "metadata": {
            "tags": []
          },
          "execution_count": 9
        }
      ]
    },
    {
      "cell_type": "markdown",
      "metadata": {
        "id": "wEWYoFoXbO04",
        "colab_type": "text"
      },
      "source": [
        "#Y"
      ]
    },
    {
      "cell_type": "code",
      "metadata": {
        "id": "KzX6QfqRbZog",
        "colab_type": "code",
        "colab": {}
      },
      "source": [
        "Y_train_val=df[df.train==1].iloc[:,2:-1]"
      ],
      "execution_count": 64,
      "outputs": []
    },
    {
      "cell_type": "code",
      "metadata": {
        "id": "1_u1vElKbGgM",
        "colab_type": "code",
        "colab": {
          "base_uri": "https://localhost:8080/",
          "height": 162
        },
        "outputId": "dd0c57a1-82c1-4d22-cb59-792301295a29"
      },
      "source": [
        "np.asarray(Y)"
      ],
      "execution_count": null,
      "outputs": [
        {
          "output_type": "error",
          "ename": "NameError",
          "evalue": "ignored",
          "traceback": [
            "\u001b[0;31m---------------------------------------------------------------------------\u001b[0m",
            "\u001b[0;31mNameError\u001b[0m                                 Traceback (most recent call last)",
            "\u001b[0;32m<ipython-input-49-cebb23589fd3>\u001b[0m in \u001b[0;36m<module>\u001b[0;34m()\u001b[0m\n\u001b[0;32m----> 1\u001b[0;31m \u001b[0mnp\u001b[0m\u001b[0;34m.\u001b[0m\u001b[0masarray\u001b[0m\u001b[0;34m(\u001b[0m\u001b[0mY\u001b[0m\u001b[0;34m)\u001b[0m\u001b[0;34m\u001b[0m\u001b[0;34m\u001b[0m\u001b[0m\n\u001b[0m",
            "\u001b[0;31mNameError\u001b[0m: name 'np' is not defined"
          ]
        }
      ]
    },
    {
      "cell_type": "markdown",
      "metadata": {
        "colab_type": "text",
        "id": "0Or_ws1akgen"
      },
      "source": [
        "#X dataset"
      ]
    },
    {
      "cell_type": "code",
      "metadata": {
        "colab_type": "code",
        "id": "T5TIxKfMkoVR",
        "colab": {}
      },
      "source": [
        "X_train_val=df[df.train==1][['TITLE','ABSTRACT']]\n",
        "X_test=df[df.train==0][['TITLE','ABSTRACT']]"
      ],
      "execution_count": 53,
      "outputs": []
    },
    {
      "cell_type": "code",
      "metadata": {
        "id": "Tdi8UpINg9P4",
        "colab_type": "code",
        "colab": {
          "base_uri": "https://localhost:8080/",
          "height": 521
        },
        "outputId": "56349898-37ea-445c-d6d0-5be0dd0bede1"
      },
      "source": [
        "X_train_val,X_test"
      ],
      "execution_count": 54,
      "outputs": [
        {
          "output_type": "execute_result",
          "data": {
            "text/plain": [
              "(                                                   TITLE                                           ABSTRACT\n",
              " ID                                                                                                         \n",
              " 1            Reconstructing Subject-Specific Effect Maps    Predictive models allow subject-specific inf...\n",
              " 2                     Rotation Invariance Neural Network    Rotation invariance and translation invarian...\n",
              " 3      Spherical polyharmonics and Poisson kernels fo...    We introduce and develop the notion of spher...\n",
              " 4      A finite element approximation for the stochas...    The stochastic Landau--Lifshitz--Gilbert (LL...\n",
              " 5      Comparative study of Discrete Wavelet Transfor...    Fourier-transform infra-red (FTIR) spectra o...\n",
              " ...                                                  ...                                                ...\n",
              " 20968  Contemporary machine learning: a guide for pra...    Machine learning is finding increasingly bro...\n",
              " 20969  Uniform diamond coatings on WC-Co hard alloy c...    Polycrystalline diamond coatings have been g...\n",
              " 20970  Analysing Soccer Games with Clustering and Con...    We present a new approach for identifying si...\n",
              " 20971  On the Efficient Simulation of the Left-Tail o...    The sum of Log-normal variates is encountere...\n",
              " 20972   Why optional stopping is a problem for Bayesians    Recently, optional stopping has been a subje...\n",
              " \n",
              " [20972 rows x 2 columns],\n",
              "                                                    TITLE                                           ABSTRACT\n",
              " ID                                                                                                         \n",
              " 20973  Closed-form Marginal Likelihood in Gamma-Poiss...    We present novel understandings of the Gamma...\n",
              " 20974  Laboratory mid-IR spectra of equilibrated and ...    Meteorites contain minerals from Solar Syste...\n",
              " 20975         Case For Static AMSDU Aggregation in WLANs    Frame aggregation is a mechanism by which mu...\n",
              " 20976  The $Gaia$-ESO Survey: the inner disk intermed...    Milky Way open clusters are very diverse in ...\n",
              " 20977  Witness-Functions versus Interpretation-Functi...    Proving that a cryptographic protocol is cor...\n",
              " ...                                                  ...                                                ...\n",
              " 29957  Supporting mixed-datatype matrix multiplicatio...    We approach the problem of implementing mixe...\n",
              " 29958        An axiomatic basis for Blackwell optimality    In the theory of Markov decision processes (...\n",
              " 29959  GeneVis - An interactive visualization tool fo...    GeneVis is a web-based tool to visualize com...\n",
              " 29960  Quantifying the causal effect of speed cameras...    This paper quantifies the effect of speed ca...\n",
              " 29961                      Cube-magic labelings of grids    We show that the vertices and edges of a $d$...\n",
              " \n",
              " [8989 rows x 2 columns])"
            ]
          },
          "metadata": {
            "tags": []
          },
          "execution_count": 54
        }
      ]
    },
    {
      "cell_type": "code",
      "metadata": {
        "id": "y3NoXqq2k8cq",
        "colab_type": "code",
        "colab": {}
      },
      "source": [
        "X_train_val=[X_train_val.iloc[i][\"TITLE\"]+X_train_val.iloc[i][\"ABSTRACT\"] for i in range(X_train_val.shape[0])]\n",
        "X_test=[X_test.iloc[i][\"TITLE\"]+X_test.iloc[i][\"ABSTRACT\"] for i in range(X_test.shape[0])]\n",
        "print(len(X_train_val),len(X_test))\n",
        "X_train_val\n"
      ],
      "execution_count": null,
      "outputs": []
    },
    {
      "cell_type": "code",
      "metadata": {
        "id": "_RBDF9wDpIbi",
        "colab_type": "code",
        "colab": {}
      },
      "source": [
        "np.asarray(X_train_val)"
      ],
      "execution_count": null,
      "outputs": []
    },
    {
      "cell_type": "markdown",
      "metadata": {
        "id": "8bVNlJl7ossL",
        "colab_type": "text"
      },
      "source": [
        "#Splitting Data"
      ]
    },
    {
      "cell_type": "code",
      "metadata": {
        "id": "2uAOtmE8hM2_",
        "colab_type": "code",
        "colab": {}
      },
      "source": [
        "from sklearn.model_selection import train_test_split\n",
        "import numpy as np\n"
      ],
      "execution_count": 61,
      "outputs": []
    },
    {
      "cell_type": "code",
      "metadata": {
        "id": "DtKw65Srhqhr",
        "colab_type": "code",
        "colab": {
          "base_uri": "https://localhost:8080/",
          "height": 34
        },
        "outputId": "fa5886e7-ad1e-40ae-d09a-2a370f6346b5"
      },
      "source": [
        "X_train,X_val,Y_train,Y_val=train_test_split(np.asarray(X_train_val),np.asarray(Y_train_val),random_state=42,test_size=0.2)\n",
        "print(X_train.shape,X_val.shape,Y_train.shape,Y_val.shape)"
      ],
      "execution_count": 66,
      "outputs": [
        {
          "output_type": "stream",
          "text": [
            "(16777,) (4195,) (16777, 6) (4195, 6)\n"
          ],
          "name": "stdout"
        }
      ]
    },
    {
      "cell_type": "markdown",
      "metadata": {
        "id": "S9BtEsk3psYg",
        "colab_type": "text"
      },
      "source": [
        "#Using GloVe"
      ]
    },
    {
      "cell_type": "code",
      "metadata": {
        "id": "9IFdW55lvtdy",
        "colab_type": "code",
        "colab": {
          "base_uri": "https://localhost:8080/",
          "height": 353
        },
        "outputId": "9eb74f82-8095-4042-f754-7ddcf0fbabcd"
      },
      "source": [
        "!wget 'http://nlp.stanford.edu/data/glove.6B.zip'             #getting the GloVe embeddings"
      ],
      "execution_count": 67,
      "outputs": [
        {
          "output_type": "stream",
          "text": [
            "--2020-08-18 17:38:54--  http://nlp.stanford.edu/data/glove.6B.zip\n",
            "Resolving nlp.stanford.edu (nlp.stanford.edu)... 171.64.67.140\n",
            "Connecting to nlp.stanford.edu (nlp.stanford.edu)|171.64.67.140|:80... connected.\n",
            "HTTP request sent, awaiting response... 302 Found\n",
            "Location: https://nlp.stanford.edu/data/glove.6B.zip [following]\n",
            "--2020-08-18 17:38:54--  https://nlp.stanford.edu/data/glove.6B.zip\n",
            "Connecting to nlp.stanford.edu (nlp.stanford.edu)|171.64.67.140|:443... connected.\n",
            "HTTP request sent, awaiting response... 301 Moved Permanently\n",
            "Location: http://downloads.cs.stanford.edu/nlp/data/glove.6B.zip [following]\n",
            "--2020-08-18 17:38:54--  http://downloads.cs.stanford.edu/nlp/data/glove.6B.zip\n",
            "Resolving downloads.cs.stanford.edu (downloads.cs.stanford.edu)... 171.64.64.22\n",
            "Connecting to downloads.cs.stanford.edu (downloads.cs.stanford.edu)|171.64.64.22|:80... connected.\n",
            "HTTP request sent, awaiting response... 200 OK\n",
            "Length: 862182613 (822M) [application/zip]\n",
            "Saving to: ‘glove.6B.zip’\n",
            "\n",
            "glove.6B.zip        100%[===================>] 822.24M  2.07MB/s    in 6m 28s  \n",
            "\n",
            "2020-08-18 17:45:22 (2.12 MB/s) - ‘glove.6B.zip’ saved [862182613/862182613]\n",
            "\n"
          ],
          "name": "stdout"
        }
      ]
    },
    {
      "cell_type": "code",
      "metadata": {
        "id": "9iuDjdQeV5Y7",
        "colab_type": "code",
        "colab": {
          "base_uri": "https://localhost:8080/",
          "height": 101
        },
        "outputId": "c2498849-9779-4bf0-e7b5-e883ef4e0951"
      },
      "source": [
        " !unzip \"/content/glove.6B.zip\""
      ],
      "execution_count": 68,
      "outputs": [
        {
          "output_type": "stream",
          "text": [
            "Archive:  /content/glove.6B.zip\n",
            "  inflating: glove.6B.50d.txt        \n",
            "  inflating: glove.6B.100d.txt       \n",
            "  inflating: glove.6B.200d.txt       \n",
            "  inflating: glove.6B.300d.txt       \n"
          ],
          "name": "stdout"
        }
      ]
    },
    {
      "cell_type": "code",
      "metadata": {
        "id": "FO0kXuVFYReR",
        "colab_type": "code",
        "colab": {}
      },
      "source": [
        "with open('/content/glove.6B.50d.txt','r') as f:                   #using embeddings with 50 dimentions\n",
        "  doc=f.readlines()"
      ],
      "execution_count": 69,
      "outputs": []
    },
    {
      "cell_type": "code",
      "metadata": {
        "id": "7ut87EYgozUb",
        "colab_type": "code",
        "colab": {}
      },
      "source": [
        "embedding_list={}                                    #dict: keys=words Values=Embeddings\n",
        "\n",
        "for line in doc:\n",
        "  sen=line.split()\n",
        "  embedding_list[sen[0]]=sen[1:]\n",
        "embedding_list  \n"
      ],
      "execution_count": null,
      "outputs": []
    },
    {
      "cell_type": "markdown",
      "metadata": {
        "id": "dgy7JvlAp9gN",
        "colab_type": "text"
      },
      "source": [
        "#Select preprocessing input"
      ]
    },
    {
      "cell_type": "code",
      "metadata": {
        "id": "mHileqkQoPI1",
        "colab_type": "code",
        "colab": {}
      },
      "source": [
        "from tensorflow.keras.preprocessing.text import Tokenizer \n",
        "from tensorflow.keras.preprocessing.sequence import pad_sequences\n",
        "import numpy as np\n"
      ],
      "execution_count": 71,
      "outputs": []
    },
    {
      "cell_type": "code",
      "metadata": {
        "id": "UteFmHChm9Vw",
        "colab_type": "code",
        "colab": {
          "base_uri": "https://localhost:8080/",
          "height": 34
        },
        "outputId": "80d8345e-6568-40cd-ed3b-c42c100156f3"
      },
      "source": [
        "ov_tok='<OOV>'\n",
        "EMBEDDING_DIM=50\n",
        "max_len=max([len(i) for i in X_train_val])\n",
        "print(max_len)\n",
        "vocab_size=10000"
      ],
      "execution_count": 72,
      "outputs": [
        {
          "output_type": "stream",
          "text": [
            "2860\n"
          ],
          "name": "stdout"
        }
      ]
    },
    {
      "cell_type": "code",
      "metadata": {
        "id": "h44v1Y3Qn26X",
        "colab_type": "code",
        "colab": {}
      },
      "source": [
        "tokenizer=Tokenizer(num_words=vocab_size,oov_token=ov_tok,lower=True)\n",
        "tokenizer.fit_on_texts(X_train_val)\n",
        "\n",
        "X_train_sequences= tokenizer.texts_to_sequences(X_train)\n",
        "X_test_sequences= tokenizer.texts_to_sequences(X_test)\n",
        "X_val_sequences= tokenizer.texts_to_sequences(X_val)\n",
        "\n",
        "word_index=tokenizer.word_index\n",
        "\n",
        "X_train_pad=pad_sequences(X_train_sequences, padding=\"post\",truncating='post',maxlen=max_len)\n",
        "X_val_pad=pad_sequences(X_val_sequences, padding=\"post\",truncating='post',maxlen=max_len)\n",
        "X_test_pad=pad_sequences(X_test_sequences, padding=\"post\",truncating='post',maxlen=max_len)"
      ],
      "execution_count": 74,
      "outputs": []
    },
    {
      "cell_type": "code",
      "metadata": {
        "id": "GamHoSdYvITi",
        "colab_type": "code",
        "colab": {
          "base_uri": "https://localhost:8080/",
          "height": 134
        },
        "outputId": "257027f1-e427-407a-efe4-0d5aa17ea5da"
      },
      "source": [
        "X_train_pad"
      ],
      "execution_count": 75,
      "outputs": [
        {
          "output_type": "execute_result",
          "data": {
            "text/plain": [
              "array([[3593,  137, 3166, ...,    0,    0,    0],\n",
              "       [1829,  112,    3, ...,    0,    0,    0],\n",
              "       [   1,  245, 1926, ...,    0,    0,    0],\n",
              "       ...,\n",
              "       [ 250,  784,    9, ...,    0,    0,    0],\n",
              "       [ 498,  322,    6, ...,    0,    0,    0],\n",
              "       [2975,   26, 2698, ...,    0,    0,    0]], dtype=int32)"
            ]
          },
          "metadata": {
            "tags": []
          },
          "execution_count": 75
        }
      ]
    },
    {
      "cell_type": "code",
      "metadata": {
        "id": "TEO3cqpauRhu",
        "colab_type": "code",
        "colab": {
          "base_uri": "https://localhost:8080/",
          "height": 34
        },
        "outputId": "b56dde04-f9c4-47a2-df19-df8c83112dc6"
      },
      "source": [
        "len(word_index)"
      ],
      "execution_count": 76,
      "outputs": [
        {
          "output_type": "execute_result",
          "data": {
            "text/plain": [
              "57978"
            ]
          },
          "metadata": {
            "tags": []
          },
          "execution_count": 76
        }
      ]
    },
    {
      "cell_type": "code",
      "metadata": {
        "id": "k1lQX4dSuTbE",
        "colab_type": "code",
        "colab": {
          "base_uri": "https://localhost:8080/",
          "height": 134
        },
        "outputId": "db2f7cc3-218a-40fc-be14-21791a24a302"
      },
      "source": [
        "vocab_size=len(word_index) + 1\n",
        "embedding_matrix=np.zeros((vocab_size,EMBEDDING_DIM))\n",
        "\n",
        "for word,i in (word_index.items()):\n",
        "  embedding_vector=embedding_list.get(word)\n",
        "  if embedding_vector:\n",
        "    embedding_matrix[i]=embedding_vector\n",
        "    \n",
        "embedding_matrix  "
      ],
      "execution_count": 77,
      "outputs": [
        {
          "output_type": "execute_result",
          "data": {
            "text/plain": [
              "array([[ 0.     ,  0.     ,  0.     , ...,  0.     ,  0.     ,  0.     ],\n",
              "       [ 0.     ,  0.     ,  0.     , ...,  0.     ,  0.     ,  0.     ],\n",
              "       [ 0.418  ,  0.24968, -0.41242, ..., -0.18411, -0.11514, -0.78581],\n",
              "       ...,\n",
              "       [ 0.     ,  0.     ,  0.     , ...,  0.     ,  0.     ,  0.     ],\n",
              "       [ 0.     ,  0.     ,  0.     , ...,  0.     ,  0.     ,  0.     ],\n",
              "       [ 0.     ,  0.     ,  0.     , ...,  0.     ,  0.     ,  0.     ]])"
            ]
          },
          "metadata": {
            "tags": []
          },
          "execution_count": 77
        }
      ]
    },
    {
      "cell_type": "code",
      "metadata": {
        "id": "iO5N5R22uTZv",
        "colab_type": "code",
        "colab": {}
      },
      "source": [
        "X_train_padded = np.array(X_train_pad).astype(np.float32)                                #converting to float as tensors need float datatype\n",
        "X_test_padded = np.array(X_test_pad).astype(np.float32)\n",
        "X_val_padded = np.array(X_val_pad).astype(np.float32)\n",
        "\n",
        "Y_train = np.array(Y_train).astype(np.float32)\n",
        "#Y_test = np.array(Y_test).astype(np.float32)\n",
        "Y_val = np.array(Y_val).astype(np.float32)"
      ],
      "execution_count": 78,
      "outputs": []
    },
    {
      "cell_type": "code",
      "metadata": {
        "id": "ZSL2rLHqyTci",
        "colab_type": "code",
        "colab": {
          "base_uri": "https://localhost:8080/",
          "height": 34
        },
        "outputId": "353a4f8a-3f06-436c-fd8b-180a4bf0ff6e"
      },
      "source": [
        "type(Y_train)"
      ],
      "execution_count": 79,
      "outputs": [
        {
          "output_type": "execute_result",
          "data": {
            "text/plain": [
              "numpy.ndarray"
            ]
          },
          "metadata": {
            "tags": []
          },
          "execution_count": 79
        }
      ]
    },
    {
      "cell_type": "markdown",
      "metadata": {
        "id": "Y7IOUjfhqQsP",
        "colab_type": "text"
      },
      "source": [
        "#Model"
      ]
    },
    {
      "cell_type": "code",
      "metadata": {
        "id": "XBoh8e6mpyTN",
        "colab_type": "code",
        "colab": {
          "base_uri": "https://localhost:8080/",
          "height": 34
        },
        "outputId": "ea42568e-65bb-470b-beda-37ff4636f0b7"
      },
      "source": [
        "import tensorflow as tf\n",
        "from tensorflow import keras\n",
        "from tensorflow.keras import layers\n",
        "from __future__ import division, print_function\n",
        "from keras.callbacks import ModelCheckpoint\n",
        "from keras.layers import Dense, Dropout, BatchNormalization\n",
        "from keras.models import Sequential\n",
        "from keras.models import Model"
      ],
      "execution_count": 80,
      "outputs": [
        {
          "output_type": "stream",
          "text": [
            "Using TensorFlow backend.\n"
          ],
          "name": "stderr"
        }
      ]
    },
    {
      "cell_type": "code",
      "metadata": {
        "id": "xsXG3j5tuCfZ",
        "colab_type": "code",
        "colab": {
          "base_uri": "https://localhost:8080/",
          "height": 406
        },
        "outputId": "2deaac92-b9ea-4a5b-c5c2-2ae03e9ee330"
      },
      "source": [
        "model=tf.keras.Sequential([\n",
        "                           tf.keras.layers.Embedding(vocab_size,EMBEDDING_DIM,weights=[embedding_matrix],input_length=max_len),\n",
        "                           tf.keras.layers.GlobalAveragePooling1D(),\n",
        "                           tf.keras.layers.Dense(64,activation='sigmoid'),\n",
        "                           tf.keras.layers.Dense(6,activation='sigmoid')\n",
        "])\n",
        "\n",
        "model.compile(optimizer='adam',loss='categorical_crossentropy',metrics=['acc'])\n",
        "model.summary()"
      ],
      "execution_count": 81,
      "outputs": [
        {
          "output_type": "stream",
          "text": [
            "WARNING:tensorflow:From /tensorflow-1.15.2/python3.6/tensorflow_core/python/keras/initializers.py:119: calling RandomUniform.__init__ (from tensorflow.python.ops.init_ops) with dtype is deprecated and will be removed in a future version.\n",
            "Instructions for updating:\n",
            "Call initializer instance with the dtype argument instead of passing it to the constructor\n",
            "WARNING:tensorflow:From /tensorflow-1.15.2/python3.6/tensorflow_core/python/ops/resource_variable_ops.py:1630: calling BaseResourceVariable.__init__ (from tensorflow.python.ops.resource_variable_ops) with constraint is deprecated and will be removed in a future version.\n",
            "Instructions for updating:\n",
            "If using Keras pass *_constraint arguments to layers.\n",
            "Model: \"sequential\"\n",
            "_________________________________________________________________\n",
            "Layer (type)                 Output Shape              Param #   \n",
            "=================================================================\n",
            "embedding (Embedding)        (None, 2860, 50)          2898950   \n",
            "_________________________________________________________________\n",
            "global_average_pooling1d (Gl (None, 50)                0         \n",
            "_________________________________________________________________\n",
            "dense (Dense)                (None, 64)                3264      \n",
            "_________________________________________________________________\n",
            "dense_1 (Dense)              (None, 6)                 390       \n",
            "=================================================================\n",
            "Total params: 2,902,604\n",
            "Trainable params: 2,902,604\n",
            "Non-trainable params: 0\n",
            "_________________________________________________________________\n"
          ],
          "name": "stdout"
        }
      ]
    },
    {
      "cell_type": "code",
      "metadata": {
        "id": "dZklr1iq5rLW",
        "colab_type": "code",
        "colab": {}
      },
      "source": [
        "checkpoint_filepath = '/content/checkpoint'\n",
        "model_checkpoint_callback = tf.keras.callbacks.ModelCheckpoint(\n",
        "    filepath=checkpoint_filepath,\n",
        "    save_weights_only=True,\n",
        "    monitor='val_acc',\n",
        "    mode='max',\n",
        "    save_best_only=True)\n"
      ],
      "execution_count": 82,
      "outputs": []
    },
    {
      "cell_type": "code",
      "metadata": {
        "id": "eMC3ECkUzy7a",
        "colab_type": "code",
        "colab": {
          "base_uri": "https://localhost:8080/",
          "height": 440
        },
        "outputId": "ba5b9c9b-fd51-47fc-dade-cf2e0e316631"
      },
      "source": [
        "num_epochs=10\n",
        "batch_size=32\n",
        "\n",
        "history=model.fit(X_train_padded,\n",
        "                  Y_train,\n",
        "                  batch_size,\n",
        "                  num_epochs,\n",
        "                  validation_data=(X_val_padded,Y_val),\n",
        "                  shuffle=True,\n",
        "                  callbacks=[model_checkpoint_callback]\n",
        "                  \n",
        "                  )\n"
      ],
      "execution_count": 83,
      "outputs": [
        {
          "output_type": "stream",
          "text": [
            "WARNING:tensorflow:From /tensorflow-1.15.2/python3.6/tensorflow_core/python/ops/math_grad.py:1424: where (from tensorflow.python.ops.array_ops) is deprecated and will be removed in a future version.\n",
            "Instructions for updating:\n",
            "Use tf.where in 2.0, which has the same broadcast rule as np.where\n",
            "Train on 16777 samples, validate on 4195 samples\n",
            "Epoch 1/10\n",
            "16777/16777 [==============================] - 24s 1ms/sample - loss: 1.8881 - acc: 0.4019 - val_loss: 1.8628 - val_acc: 0.4033\n",
            "Epoch 2/10\n",
            "16777/16777 [==============================] - 23s 1ms/sample - loss: 1.7966 - acc: 0.4308 - val_loss: 1.7322 - val_acc: 0.5807\n",
            "Epoch 3/10\n",
            "16777/16777 [==============================] - 23s 1ms/sample - loss: 1.5316 - acc: 0.6809 - val_loss: 1.4188 - val_acc: 0.7046\n",
            "Epoch 4/10\n",
            "16777/16777 [==============================] - 23s 1ms/sample - loss: 1.2763 - acc: 0.7312 - val_loss: 1.2411 - val_acc: 0.7340\n",
            "Epoch 5/10\n",
            "16777/16777 [==============================] - 23s 1ms/sample - loss: 1.1774 - acc: 0.7495 - val_loss: 1.1837 - val_acc: 0.7514\n",
            "Epoch 6/10\n",
            "16777/16777 [==============================] - 23s 1ms/sample - loss: 1.1269 - acc: 0.7531 - val_loss: 1.1498 - val_acc: 0.7452\n",
            "Epoch 7/10\n",
            "16777/16777 [==============================] - 23s 1ms/sample - loss: 1.0935 - acc: 0.7549 - val_loss: 1.1273 - val_acc: 0.7490\n",
            "Epoch 8/10\n",
            "16777/16777 [==============================] - 23s 1ms/sample - loss: 1.0669 - acc: 0.7613 - val_loss: 1.1140 - val_acc: 0.7423\n",
            "Epoch 9/10\n",
            "16777/16777 [==============================] - 23s 1ms/sample - loss: 1.0461 - acc: 0.7610 - val_loss: 1.1101 - val_acc: 0.7609\n",
            "Epoch 10/10\n",
            "16777/16777 [==============================] - 23s 1ms/sample - loss: 1.0287 - acc: 0.7635 - val_loss: 1.0941 - val_acc: 0.7399\n"
          ],
          "name": "stdout"
        }
      ]
    },
    {
      "cell_type": "markdown",
      "metadata": {
        "id": "9jFBliiJtbMF",
        "colab_type": "text"
      },
      "source": [
        "#Submission"
      ]
    },
    {
      "cell_type": "code",
      "metadata": {
        "id": "1oJ4k4e6vKYP",
        "colab_type": "code",
        "colab": {}
      },
      "source": [
        "from tensorflow import Session"
      ],
      "execution_count": 97,
      "outputs": []
    },
    {
      "cell_type": "code",
      "metadata": {
        "id": "SsDk1M0a1yhN",
        "colab_type": "code",
        "colab": {
          "base_uri": "https://localhost:8080/",
          "height": 50
        },
        "outputId": "d672c290-1108-4d3b-f2a7-c4fa9b82e818"
      },
      "source": [
        "model.load_weights(checkpoint_filepath)\n",
        "\n",
        "loss,acc = model.evaluate(X_val_padded,  Y_val, verbose=2)\n",
        "print(\"Restored model, accuracy: {:5.2f}%\".format(100*acc))"
      ],
      "execution_count": 105,
      "outputs": [
        {
          "output_type": "stream",
          "text": [
            "4195/4195 - 1s - loss: 1.1101 - acc: 0.7609\n",
            "Restored model, accuracy: 76.09%\n"
          ],
          "name": "stdout"
        }
      ]
    },
    {
      "cell_type": "code",
      "metadata": {
        "id": "mBtvcuWG2Nuv",
        "colab_type": "code",
        "colab": {
          "base_uri": "https://localhost:8080/",
          "height": 235
        },
        "outputId": "342b7922-d86b-4807-d340-2a8400c3d73c"
      },
      "source": [
        "Y_p=model.predict(X_val_padded,32,callbacks=[model_checkpoint_callback])\n",
        "Y_p\n"
      ],
      "execution_count": 106,
      "outputs": [
        {
          "output_type": "execute_result",
          "data": {
            "text/plain": [
              "array([[1.5292180e-01, 4.4241548e-04, 4.8351288e-04, 6.3368559e-02,\n",
              "        3.4985542e-03, 1.4925301e-03],\n",
              "       [1.1891216e-02, 5.9927702e-03, 8.6400509e-03, 4.4735968e-03,\n",
              "        1.2496114e-03, 9.6577406e-04],\n",
              "       [6.3406467e-02, 2.3403764e-04, 6.5607429e-03, 4.6675831e-02,\n",
              "        6.9928169e-04, 1.3269186e-03],\n",
              "       ...,\n",
              "       [4.7054887e-03, 8.7440610e-03, 4.8287481e-02, 2.0677447e-03,\n",
              "        5.1999092e-04, 8.5884333e-04],\n",
              "       [7.9238415e-04, 9.1608292e-01, 1.4352500e-03, 3.3825636e-05,\n",
              "        1.8920511e-02, 5.1814318e-04],\n",
              "       [6.4323872e-02, 1.7616749e-03, 9.4658136e-04, 1.8138349e-02,\n",
              "        3.1594157e-03, 1.1927044e-03]], dtype=float32)"
            ]
          },
          "metadata": {
            "tags": []
          },
          "execution_count": 106
        }
      ]
    },
    {
      "cell_type": "code",
      "metadata": {
        "id": "EA8w5mYR4IK-",
        "colab_type": "code",
        "colab": {
          "base_uri": "https://localhost:8080/",
          "height": 235
        },
        "outputId": "2bf7f53a-7976-4116-af57-ce5a47592c81"
      },
      "source": [
        "Y_pred=model.predict(X_test_padded,32,callbacks=[model_checkpoint_callback])\n",
        "Y_pred"
      ],
      "execution_count": 107,
      "outputs": [
        {
          "output_type": "execute_result",
          "data": {
            "text/plain": [
              "array([[2.0346314e-02, 1.0772347e-03, 1.4736801e-02, 1.4739245e-02,\n",
              "        6.5124035e-04, 1.1680424e-03],\n",
              "       [3.0275881e-03, 3.2095301e-01, 1.9141734e-03, 2.7701259e-04,\n",
              "        7.5883269e-03, 6.7120790e-04],\n",
              "       [3.6309898e-02, 1.3877451e-03, 3.6400259e-03, 1.5729249e-02,\n",
              "        1.4348626e-03, 1.1507869e-03],\n",
              "       ...,\n",
              "       [2.4967909e-02, 7.1015954e-03, 1.4884174e-03, 6.0932636e-03,\n",
              "        3.3643842e-03, 1.0176301e-03],\n",
              "       [6.5629125e-02, 2.2503734e-04, 5.2720904e-03, 6.0199589e-02,\n",
              "        8.2340837e-04, 1.4469922e-03],\n",
              "       [1.0694943e-02, 2.7720819e-03, 3.0870637e-02, 5.2316701e-03,\n",
              "        5.1247986e-04, 9.6736237e-04]], dtype=float32)"
            ]
          },
          "metadata": {
            "tags": []
          },
          "execution_count": 107
        }
      ]
    },
    {
      "cell_type": "code",
      "metadata": {
        "id": "u8SHViO14ns7",
        "colab_type": "code",
        "colab": {
          "base_uri": "https://localhost:8080/",
          "height": 34
        },
        "outputId": "2cdb841e-5cd5-4c5f-e0bf-1e3c8abf3a20"
      },
      "source": [
        "Y_pred.shape"
      ],
      "execution_count": 108,
      "outputs": [
        {
          "output_type": "execute_result",
          "data": {
            "text/plain": [
              "(8989, 6)"
            ]
          },
          "metadata": {
            "tags": []
          },
          "execution_count": 108
        }
      ]
    },
    {
      "cell_type": "code",
      "metadata": {
        "id": "JmHR94xs9GCZ",
        "colab_type": "code",
        "colab": {
          "base_uri": "https://localhost:8080/",
          "height": 402
        },
        "outputId": "9f91a2f2-b020-4c05-bb80-3b5aec5c1ad3"
      },
      "source": [
        "Y=pd.DataFrame(Y_pred,columns=list(df.columns[2:-1]))\n",
        "Y"
      ],
      "execution_count": 109,
      "outputs": [
        {
          "output_type": "execute_result",
          "data": {
            "text/html": [
              "<div>\n",
              "<style scoped>\n",
              "    .dataframe tbody tr th:only-of-type {\n",
              "        vertical-align: middle;\n",
              "    }\n",
              "\n",
              "    .dataframe tbody tr th {\n",
              "        vertical-align: top;\n",
              "    }\n",
              "\n",
              "    .dataframe thead th {\n",
              "        text-align: right;\n",
              "    }\n",
              "</style>\n",
              "<table border=\"1\" class=\"dataframe\">\n",
              "  <thead>\n",
              "    <tr style=\"text-align: right;\">\n",
              "      <th></th>\n",
              "      <th>Computer Science</th>\n",
              "      <th>Physics</th>\n",
              "      <th>Mathematics</th>\n",
              "      <th>Statistics</th>\n",
              "      <th>Quantitative Biology</th>\n",
              "      <th>Quantitative Finance</th>\n",
              "    </tr>\n",
              "  </thead>\n",
              "  <tbody>\n",
              "    <tr>\n",
              "      <th>0</th>\n",
              "      <td>0.020346</td>\n",
              "      <td>0.001077</td>\n",
              "      <td>0.014737</td>\n",
              "      <td>0.014739</td>\n",
              "      <td>0.000651</td>\n",
              "      <td>0.001168</td>\n",
              "    </tr>\n",
              "    <tr>\n",
              "      <th>1</th>\n",
              "      <td>0.003028</td>\n",
              "      <td>0.320953</td>\n",
              "      <td>0.001914</td>\n",
              "      <td>0.000277</td>\n",
              "      <td>0.007588</td>\n",
              "      <td>0.000671</td>\n",
              "    </tr>\n",
              "    <tr>\n",
              "      <th>2</th>\n",
              "      <td>0.036310</td>\n",
              "      <td>0.001388</td>\n",
              "      <td>0.003640</td>\n",
              "      <td>0.015729</td>\n",
              "      <td>0.001435</td>\n",
              "      <td>0.001151</td>\n",
              "    </tr>\n",
              "    <tr>\n",
              "      <th>3</th>\n",
              "      <td>0.001198</td>\n",
              "      <td>0.860852</td>\n",
              "      <td>0.001033</td>\n",
              "      <td>0.000056</td>\n",
              "      <td>0.020150</td>\n",
              "      <td>0.000553</td>\n",
              "    </tr>\n",
              "    <tr>\n",
              "      <th>4</th>\n",
              "      <td>0.027656</td>\n",
              "      <td>0.000812</td>\n",
              "      <td>0.011779</td>\n",
              "      <td>0.015902</td>\n",
              "      <td>0.000659</td>\n",
              "      <td>0.001128</td>\n",
              "    </tr>\n",
              "    <tr>\n",
              "      <th>...</th>\n",
              "      <td>...</td>\n",
              "      <td>...</td>\n",
              "      <td>...</td>\n",
              "      <td>...</td>\n",
              "      <td>...</td>\n",
              "      <td>...</td>\n",
              "    </tr>\n",
              "    <tr>\n",
              "      <th>8984</th>\n",
              "      <td>0.022748</td>\n",
              "      <td>0.007627</td>\n",
              "      <td>0.001568</td>\n",
              "      <td>0.005167</td>\n",
              "      <td>0.003245</td>\n",
              "      <td>0.000972</td>\n",
              "    </tr>\n",
              "    <tr>\n",
              "      <th>8985</th>\n",
              "      <td>0.012175</td>\n",
              "      <td>0.002662</td>\n",
              "      <td>0.022574</td>\n",
              "      <td>0.006297</td>\n",
              "      <td>0.000617</td>\n",
              "      <td>0.001015</td>\n",
              "    </tr>\n",
              "    <tr>\n",
              "      <th>8986</th>\n",
              "      <td>0.024968</td>\n",
              "      <td>0.007102</td>\n",
              "      <td>0.001488</td>\n",
              "      <td>0.006093</td>\n",
              "      <td>0.003364</td>\n",
              "      <td>0.001018</td>\n",
              "    </tr>\n",
              "    <tr>\n",
              "      <th>8987</th>\n",
              "      <td>0.065629</td>\n",
              "      <td>0.000225</td>\n",
              "      <td>0.005272</td>\n",
              "      <td>0.060200</td>\n",
              "      <td>0.000823</td>\n",
              "      <td>0.001447</td>\n",
              "    </tr>\n",
              "    <tr>\n",
              "      <th>8988</th>\n",
              "      <td>0.010695</td>\n",
              "      <td>0.002772</td>\n",
              "      <td>0.030871</td>\n",
              "      <td>0.005232</td>\n",
              "      <td>0.000512</td>\n",
              "      <td>0.000967</td>\n",
              "    </tr>\n",
              "  </tbody>\n",
              "</table>\n",
              "<p>8989 rows × 6 columns</p>\n",
              "</div>"
            ],
            "text/plain": [
              "      Computer Science   Physics  ...  Quantitative Biology  Quantitative Finance\n",
              "0             0.020346  0.001077  ...              0.000651              0.001168\n",
              "1             0.003028  0.320953  ...              0.007588              0.000671\n",
              "2             0.036310  0.001388  ...              0.001435              0.001151\n",
              "3             0.001198  0.860852  ...              0.020150              0.000553\n",
              "4             0.027656  0.000812  ...              0.000659              0.001128\n",
              "...                ...       ...  ...                   ...                   ...\n",
              "8984          0.022748  0.007627  ...              0.003245              0.000972\n",
              "8985          0.012175  0.002662  ...              0.000617              0.001015\n",
              "8986          0.024968  0.007102  ...              0.003364              0.001018\n",
              "8987          0.065629  0.000225  ...              0.000823              0.001447\n",
              "8988          0.010695  0.002772  ...              0.000512              0.000967\n",
              "\n",
              "[8989 rows x 6 columns]"
            ]
          },
          "metadata": {
            "tags": []
          },
          "execution_count": 109
        }
      ]
    },
    {
      "cell_type": "code",
      "metadata": {
        "id": "3EFYMH-24qIe",
        "colab_type": "code",
        "colab": {
          "base_uri": "https://localhost:8080/",
          "height": 402
        },
        "outputId": "042a251f-9438-433d-b59d-ed01c32c1292"
      },
      "source": [
        "for i in range(len(Y)):\n",
        "  threshold=Y.iloc[i].mean(axis=0)\n",
        "  for j in range(Y.shape[1]):\n",
        "    if (Y.iloc[i][j])<=(threshold):\n",
        "      Y.iloc[i][j]=0\n",
        "    else:\n",
        "      Y.iloc[i][j]=1\n",
        "\n",
        "Y\n",
        "  "
      ],
      "execution_count": 110,
      "outputs": [
        {
          "output_type": "execute_result",
          "data": {
            "text/html": [
              "<div>\n",
              "<style scoped>\n",
              "    .dataframe tbody tr th:only-of-type {\n",
              "        vertical-align: middle;\n",
              "    }\n",
              "\n",
              "    .dataframe tbody tr th {\n",
              "        vertical-align: top;\n",
              "    }\n",
              "\n",
              "    .dataframe thead th {\n",
              "        text-align: right;\n",
              "    }\n",
              "</style>\n",
              "<table border=\"1\" class=\"dataframe\">\n",
              "  <thead>\n",
              "    <tr style=\"text-align: right;\">\n",
              "      <th></th>\n",
              "      <th>Computer Science</th>\n",
              "      <th>Physics</th>\n",
              "      <th>Mathematics</th>\n",
              "      <th>Statistics</th>\n",
              "      <th>Quantitative Biology</th>\n",
              "      <th>Quantitative Finance</th>\n",
              "    </tr>\n",
              "  </thead>\n",
              "  <tbody>\n",
              "    <tr>\n",
              "      <th>0</th>\n",
              "      <td>1.0</td>\n",
              "      <td>0.0</td>\n",
              "      <td>1.0</td>\n",
              "      <td>1.0</td>\n",
              "      <td>0.0</td>\n",
              "      <td>0.0</td>\n",
              "    </tr>\n",
              "    <tr>\n",
              "      <th>1</th>\n",
              "      <td>0.0</td>\n",
              "      <td>1.0</td>\n",
              "      <td>0.0</td>\n",
              "      <td>0.0</td>\n",
              "      <td>0.0</td>\n",
              "      <td>0.0</td>\n",
              "    </tr>\n",
              "    <tr>\n",
              "      <th>2</th>\n",
              "      <td>1.0</td>\n",
              "      <td>0.0</td>\n",
              "      <td>0.0</td>\n",
              "      <td>1.0</td>\n",
              "      <td>0.0</td>\n",
              "      <td>0.0</td>\n",
              "    </tr>\n",
              "    <tr>\n",
              "      <th>3</th>\n",
              "      <td>0.0</td>\n",
              "      <td>1.0</td>\n",
              "      <td>0.0</td>\n",
              "      <td>0.0</td>\n",
              "      <td>0.0</td>\n",
              "      <td>0.0</td>\n",
              "    </tr>\n",
              "    <tr>\n",
              "      <th>4</th>\n",
              "      <td>1.0</td>\n",
              "      <td>0.0</td>\n",
              "      <td>1.0</td>\n",
              "      <td>1.0</td>\n",
              "      <td>0.0</td>\n",
              "      <td>0.0</td>\n",
              "    </tr>\n",
              "    <tr>\n",
              "      <th>...</th>\n",
              "      <td>...</td>\n",
              "      <td>...</td>\n",
              "      <td>...</td>\n",
              "      <td>...</td>\n",
              "      <td>...</td>\n",
              "      <td>...</td>\n",
              "    </tr>\n",
              "    <tr>\n",
              "      <th>8984</th>\n",
              "      <td>1.0</td>\n",
              "      <td>1.0</td>\n",
              "      <td>0.0</td>\n",
              "      <td>0.0</td>\n",
              "      <td>0.0</td>\n",
              "      <td>0.0</td>\n",
              "    </tr>\n",
              "    <tr>\n",
              "      <th>8985</th>\n",
              "      <td>1.0</td>\n",
              "      <td>0.0</td>\n",
              "      <td>1.0</td>\n",
              "      <td>0.0</td>\n",
              "      <td>0.0</td>\n",
              "      <td>0.0</td>\n",
              "    </tr>\n",
              "    <tr>\n",
              "      <th>8986</th>\n",
              "      <td>1.0</td>\n",
              "      <td>0.0</td>\n",
              "      <td>0.0</td>\n",
              "      <td>0.0</td>\n",
              "      <td>0.0</td>\n",
              "      <td>0.0</td>\n",
              "    </tr>\n",
              "    <tr>\n",
              "      <th>8987</th>\n",
              "      <td>1.0</td>\n",
              "      <td>0.0</td>\n",
              "      <td>0.0</td>\n",
              "      <td>1.0</td>\n",
              "      <td>0.0</td>\n",
              "      <td>0.0</td>\n",
              "    </tr>\n",
              "    <tr>\n",
              "      <th>8988</th>\n",
              "      <td>1.0</td>\n",
              "      <td>0.0</td>\n",
              "      <td>1.0</td>\n",
              "      <td>0.0</td>\n",
              "      <td>0.0</td>\n",
              "      <td>0.0</td>\n",
              "    </tr>\n",
              "  </tbody>\n",
              "</table>\n",
              "<p>8989 rows × 6 columns</p>\n",
              "</div>"
            ],
            "text/plain": [
              "      Computer Science  Physics  ...  Quantitative Biology  Quantitative Finance\n",
              "0                  1.0      0.0  ...                   0.0                   0.0\n",
              "1                  0.0      1.0  ...                   0.0                   0.0\n",
              "2                  1.0      0.0  ...                   0.0                   0.0\n",
              "3                  0.0      1.0  ...                   0.0                   0.0\n",
              "4                  1.0      0.0  ...                   0.0                   0.0\n",
              "...                ...      ...  ...                   ...                   ...\n",
              "8984               1.0      1.0  ...                   0.0                   0.0\n",
              "8985               1.0      0.0  ...                   0.0                   0.0\n",
              "8986               1.0      0.0  ...                   0.0                   0.0\n",
              "8987               1.0      0.0  ...                   0.0                   0.0\n",
              "8988               1.0      0.0  ...                   0.0                   0.0\n",
              "\n",
              "[8989 rows x 6 columns]"
            ]
          },
          "metadata": {
            "tags": []
          },
          "execution_count": 110
        }
      ]
    },
    {
      "cell_type": "code",
      "metadata": {
        "id": "yjbqTSOw9Z41",
        "colab_type": "code",
        "colab": {
          "base_uri": "https://localhost:8080/",
          "height": 431
        },
        "outputId": "c01d3401-dfe7-42ce-d471-e33da7823a8c"
      },
      "source": [
        "submission=pd.concat([data_test_original.ID,Y],axis=1)\n",
        "submission.set_index('ID',inplace=True)\n",
        "submission"
      ],
      "execution_count": 111,
      "outputs": [
        {
          "output_type": "execute_result",
          "data": {
            "text/html": [
              "<div>\n",
              "<style scoped>\n",
              "    .dataframe tbody tr th:only-of-type {\n",
              "        vertical-align: middle;\n",
              "    }\n",
              "\n",
              "    .dataframe tbody tr th {\n",
              "        vertical-align: top;\n",
              "    }\n",
              "\n",
              "    .dataframe thead th {\n",
              "        text-align: right;\n",
              "    }\n",
              "</style>\n",
              "<table border=\"1\" class=\"dataframe\">\n",
              "  <thead>\n",
              "    <tr style=\"text-align: right;\">\n",
              "      <th></th>\n",
              "      <th>Computer Science</th>\n",
              "      <th>Physics</th>\n",
              "      <th>Mathematics</th>\n",
              "      <th>Statistics</th>\n",
              "      <th>Quantitative Biology</th>\n",
              "      <th>Quantitative Finance</th>\n",
              "    </tr>\n",
              "    <tr>\n",
              "      <th>ID</th>\n",
              "      <th></th>\n",
              "      <th></th>\n",
              "      <th></th>\n",
              "      <th></th>\n",
              "      <th></th>\n",
              "      <th></th>\n",
              "    </tr>\n",
              "  </thead>\n",
              "  <tbody>\n",
              "    <tr>\n",
              "      <th>20973</th>\n",
              "      <td>1.0</td>\n",
              "      <td>0.0</td>\n",
              "      <td>1.0</td>\n",
              "      <td>1.0</td>\n",
              "      <td>0.0</td>\n",
              "      <td>0.0</td>\n",
              "    </tr>\n",
              "    <tr>\n",
              "      <th>20974</th>\n",
              "      <td>0.0</td>\n",
              "      <td>1.0</td>\n",
              "      <td>0.0</td>\n",
              "      <td>0.0</td>\n",
              "      <td>0.0</td>\n",
              "      <td>0.0</td>\n",
              "    </tr>\n",
              "    <tr>\n",
              "      <th>20975</th>\n",
              "      <td>1.0</td>\n",
              "      <td>0.0</td>\n",
              "      <td>0.0</td>\n",
              "      <td>1.0</td>\n",
              "      <td>0.0</td>\n",
              "      <td>0.0</td>\n",
              "    </tr>\n",
              "    <tr>\n",
              "      <th>20976</th>\n",
              "      <td>0.0</td>\n",
              "      <td>1.0</td>\n",
              "      <td>0.0</td>\n",
              "      <td>0.0</td>\n",
              "      <td>0.0</td>\n",
              "      <td>0.0</td>\n",
              "    </tr>\n",
              "    <tr>\n",
              "      <th>20977</th>\n",
              "      <td>1.0</td>\n",
              "      <td>0.0</td>\n",
              "      <td>1.0</td>\n",
              "      <td>1.0</td>\n",
              "      <td>0.0</td>\n",
              "      <td>0.0</td>\n",
              "    </tr>\n",
              "    <tr>\n",
              "      <th>...</th>\n",
              "      <td>...</td>\n",
              "      <td>...</td>\n",
              "      <td>...</td>\n",
              "      <td>...</td>\n",
              "      <td>...</td>\n",
              "      <td>...</td>\n",
              "    </tr>\n",
              "    <tr>\n",
              "      <th>29957</th>\n",
              "      <td>1.0</td>\n",
              "      <td>1.0</td>\n",
              "      <td>0.0</td>\n",
              "      <td>0.0</td>\n",
              "      <td>0.0</td>\n",
              "      <td>0.0</td>\n",
              "    </tr>\n",
              "    <tr>\n",
              "      <th>29958</th>\n",
              "      <td>1.0</td>\n",
              "      <td>0.0</td>\n",
              "      <td>1.0</td>\n",
              "      <td>0.0</td>\n",
              "      <td>0.0</td>\n",
              "      <td>0.0</td>\n",
              "    </tr>\n",
              "    <tr>\n",
              "      <th>29959</th>\n",
              "      <td>1.0</td>\n",
              "      <td>0.0</td>\n",
              "      <td>0.0</td>\n",
              "      <td>0.0</td>\n",
              "      <td>0.0</td>\n",
              "      <td>0.0</td>\n",
              "    </tr>\n",
              "    <tr>\n",
              "      <th>29960</th>\n",
              "      <td>1.0</td>\n",
              "      <td>0.0</td>\n",
              "      <td>0.0</td>\n",
              "      <td>1.0</td>\n",
              "      <td>0.0</td>\n",
              "      <td>0.0</td>\n",
              "    </tr>\n",
              "    <tr>\n",
              "      <th>29961</th>\n",
              "      <td>1.0</td>\n",
              "      <td>0.0</td>\n",
              "      <td>1.0</td>\n",
              "      <td>0.0</td>\n",
              "      <td>0.0</td>\n",
              "      <td>0.0</td>\n",
              "    </tr>\n",
              "  </tbody>\n",
              "</table>\n",
              "<p>8989 rows × 6 columns</p>\n",
              "</div>"
            ],
            "text/plain": [
              "       Computer Science  Physics  ...  Quantitative Biology  Quantitative Finance\n",
              "ID                                ...                                            \n",
              "20973               1.0      0.0  ...                   0.0                   0.0\n",
              "20974               0.0      1.0  ...                   0.0                   0.0\n",
              "20975               1.0      0.0  ...                   0.0                   0.0\n",
              "20976               0.0      1.0  ...                   0.0                   0.0\n",
              "20977               1.0      0.0  ...                   0.0                   0.0\n",
              "...                 ...      ...  ...                   ...                   ...\n",
              "29957               1.0      1.0  ...                   0.0                   0.0\n",
              "29958               1.0      0.0  ...                   0.0                   0.0\n",
              "29959               1.0      0.0  ...                   0.0                   0.0\n",
              "29960               1.0      0.0  ...                   0.0                   0.0\n",
              "29961               1.0      0.0  ...                   0.0                   0.0\n",
              "\n",
              "[8989 rows x 6 columns]"
            ]
          },
          "metadata": {
            "tags": []
          },
          "execution_count": 111
        }
      ]
    },
    {
      "cell_type": "code",
      "metadata": {
        "id": "hx5XIUEH-RMZ",
        "colab_type": "code",
        "colab": {}
      },
      "source": [
        "submission.to_csv(\"submissionTA.csv\")"
      ],
      "execution_count": 112,
      "outputs": []
    },
    {
      "cell_type": "code",
      "metadata": {
        "id": "exFjg9d8x92T",
        "colab_type": "code",
        "colab": {}
      },
      "source": [
        ""
      ],
      "execution_count": null,
      "outputs": []
    }
  ]
}