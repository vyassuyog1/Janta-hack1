{
  "nbformat": 4,
  "nbformat_minor": 0,
  "metadata": {
    "colab": {
      "name": "JantaHackLibraryipynb",
      "provenance": [],
      "toc_visible": true,
      "authorship_tag": "ABX9TyMXVskTvKWCjm3kWNKIH+B0",
      "include_colab_link": true
    },
    "kernelspec": {
      "name": "python3",
      "display_name": "Python 3"
    }
  },
  "cells": [
    {
      "cell_type": "markdown",
      "metadata": {
        "id": "view-in-github",
        "colab_type": "text"
      },
      "source": [
        "<a href=\"https://colab.research.google.com/github/vyassuyog1/Janta-hack1/blob/X-only-title/JantaHackLibrary.ipynb\" target=\"_parent\"><img src=\"https://colab.research.google.com/assets/colab-badge.svg\" alt=\"Open In Colab\"/></a>"
      ]
    },
    {
      "cell_type": "code",
      "metadata": {
        "id": "xwPgJ2UPoXgf",
        "colab_type": "code",
        "colab": {
          "base_uri": "https://localhost:8080/",
          "height": 34
        },
        "outputId": "99e5639f-85b5-4c01-9200-8209c47d9097"
      },
      "source": [
        "%tensorflow_version 1.x"
      ],
      "execution_count": 1,
      "outputs": [
        {
          "output_type": "stream",
          "text": [
            "TensorFlow 1.x selected.\n"
          ],
          "name": "stdout"
        }
      ]
    },
    {
      "cell_type": "markdown",
      "metadata": {
        "id": "Welb59LPTlDR",
        "colab_type": "text"
      },
      "source": [
        "#Importing Data"
      ]
    },
    {
      "cell_type": "code",
      "metadata": {
        "id": "TII1OAyzTnoN",
        "colab_type": "code",
        "colab": {}
      },
      "source": [
        "import pandas as pd"
      ],
      "execution_count": 2,
      "outputs": []
    },
    {
      "cell_type": "code",
      "metadata": {
        "id": "fakAT84UTynK",
        "colab_type": "code",
        "colab": {
          "base_uri": "https://localhost:8080/",
          "height": 84
        },
        "outputId": "1a4ba105-f9a0-439f-e28e-950e6ab4f16a"
      },
      "source": [
        "!unzip '/content/test_8iecVfC.zip'\n",
        "!unzip '/content/train_tGmol3O.zip'"
      ],
      "execution_count": 3,
      "outputs": [
        {
          "output_type": "stream",
          "text": [
            "Archive:  /content/test_8iecVfC.zip\n",
            "  inflating: test.csv                \n",
            "Archive:  /content/train_tGmol3O.zip\n",
            "  inflating: train.csv               \n"
          ],
          "name": "stdout"
        }
      ]
    },
    {
      "cell_type": "code",
      "metadata": {
        "id": "spv52_8vTq_V",
        "colab_type": "code",
        "colab": {
          "base_uri": "https://localhost:8080/",
          "height": 633
        },
        "outputId": "ca6de235-8c61-4b47-a078-bcd4648cfa24"
      },
      "source": [
        "data_train_original=pd.read_csv('/content/train.csv')\n",
        "data_test_original=pd.read_csv('/content/test.csv')\n",
        "data_train=data_train_original.copy()\n",
        "data_train.set_index(['ID'],inplace=True)\n",
        "data_test=data_test_original.copy()\n",
        "data_test.set_index(['ID'],inplace=True)\n",
        "print(data_train.shape,data_test.shape)\n",
        "data_train"
      ],
      "execution_count": 3,
      "outputs": [
        {
          "output_type": "stream",
          "text": [
            "(20972, 8) (8989, 2)\n"
          ],
          "name": "stdout"
        },
        {
          "output_type": "execute_result",
          "data": {
            "text/html": [
              "<div>\n",
              "<style scoped>\n",
              "    .dataframe tbody tr th:only-of-type {\n",
              "        vertical-align: middle;\n",
              "    }\n",
              "\n",
              "    .dataframe tbody tr th {\n",
              "        vertical-align: top;\n",
              "    }\n",
              "\n",
              "    .dataframe thead th {\n",
              "        text-align: right;\n",
              "    }\n",
              "</style>\n",
              "<table border=\"1\" class=\"dataframe\">\n",
              "  <thead>\n",
              "    <tr style=\"text-align: right;\">\n",
              "      <th></th>\n",
              "      <th>TITLE</th>\n",
              "      <th>ABSTRACT</th>\n",
              "      <th>Computer Science</th>\n",
              "      <th>Physics</th>\n",
              "      <th>Mathematics</th>\n",
              "      <th>Statistics</th>\n",
              "      <th>Quantitative Biology</th>\n",
              "      <th>Quantitative Finance</th>\n",
              "    </tr>\n",
              "    <tr>\n",
              "      <th>ID</th>\n",
              "      <th></th>\n",
              "      <th></th>\n",
              "      <th></th>\n",
              "      <th></th>\n",
              "      <th></th>\n",
              "      <th></th>\n",
              "      <th></th>\n",
              "      <th></th>\n",
              "    </tr>\n",
              "  </thead>\n",
              "  <tbody>\n",
              "    <tr>\n",
              "      <th>1</th>\n",
              "      <td>Reconstructing Subject-Specific Effect Maps</td>\n",
              "      <td>Predictive models allow subject-specific inf...</td>\n",
              "      <td>1</td>\n",
              "      <td>0</td>\n",
              "      <td>0</td>\n",
              "      <td>0</td>\n",
              "      <td>0</td>\n",
              "      <td>0</td>\n",
              "    </tr>\n",
              "    <tr>\n",
              "      <th>2</th>\n",
              "      <td>Rotation Invariance Neural Network</td>\n",
              "      <td>Rotation invariance and translation invarian...</td>\n",
              "      <td>1</td>\n",
              "      <td>0</td>\n",
              "      <td>0</td>\n",
              "      <td>0</td>\n",
              "      <td>0</td>\n",
              "      <td>0</td>\n",
              "    </tr>\n",
              "    <tr>\n",
              "      <th>3</th>\n",
              "      <td>Spherical polyharmonics and Poisson kernels fo...</td>\n",
              "      <td>We introduce and develop the notion of spher...</td>\n",
              "      <td>0</td>\n",
              "      <td>0</td>\n",
              "      <td>1</td>\n",
              "      <td>0</td>\n",
              "      <td>0</td>\n",
              "      <td>0</td>\n",
              "    </tr>\n",
              "    <tr>\n",
              "      <th>4</th>\n",
              "      <td>A finite element approximation for the stochas...</td>\n",
              "      <td>The stochastic Landau--Lifshitz--Gilbert (LL...</td>\n",
              "      <td>0</td>\n",
              "      <td>0</td>\n",
              "      <td>1</td>\n",
              "      <td>0</td>\n",
              "      <td>0</td>\n",
              "      <td>0</td>\n",
              "    </tr>\n",
              "    <tr>\n",
              "      <th>5</th>\n",
              "      <td>Comparative study of Discrete Wavelet Transfor...</td>\n",
              "      <td>Fourier-transform infra-red (FTIR) spectra o...</td>\n",
              "      <td>1</td>\n",
              "      <td>0</td>\n",
              "      <td>0</td>\n",
              "      <td>1</td>\n",
              "      <td>0</td>\n",
              "      <td>0</td>\n",
              "    </tr>\n",
              "    <tr>\n",
              "      <th>...</th>\n",
              "      <td>...</td>\n",
              "      <td>...</td>\n",
              "      <td>...</td>\n",
              "      <td>...</td>\n",
              "      <td>...</td>\n",
              "      <td>...</td>\n",
              "      <td>...</td>\n",
              "      <td>...</td>\n",
              "    </tr>\n",
              "    <tr>\n",
              "      <th>20968</th>\n",
              "      <td>Contemporary machine learning: a guide for pra...</td>\n",
              "      <td>Machine learning is finding increasingly bro...</td>\n",
              "      <td>1</td>\n",
              "      <td>1</td>\n",
              "      <td>0</td>\n",
              "      <td>0</td>\n",
              "      <td>0</td>\n",
              "      <td>0</td>\n",
              "    </tr>\n",
              "    <tr>\n",
              "      <th>20969</th>\n",
              "      <td>Uniform diamond coatings on WC-Co hard alloy c...</td>\n",
              "      <td>Polycrystalline diamond coatings have been g...</td>\n",
              "      <td>0</td>\n",
              "      <td>1</td>\n",
              "      <td>0</td>\n",
              "      <td>0</td>\n",
              "      <td>0</td>\n",
              "      <td>0</td>\n",
              "    </tr>\n",
              "    <tr>\n",
              "      <th>20970</th>\n",
              "      <td>Analysing Soccer Games with Clustering and Con...</td>\n",
              "      <td>We present a new approach for identifying si...</td>\n",
              "      <td>1</td>\n",
              "      <td>0</td>\n",
              "      <td>0</td>\n",
              "      <td>0</td>\n",
              "      <td>0</td>\n",
              "      <td>0</td>\n",
              "    </tr>\n",
              "    <tr>\n",
              "      <th>20971</th>\n",
              "      <td>On the Efficient Simulation of the Left-Tail o...</td>\n",
              "      <td>The sum of Log-normal variates is encountere...</td>\n",
              "      <td>0</td>\n",
              "      <td>0</td>\n",
              "      <td>1</td>\n",
              "      <td>1</td>\n",
              "      <td>0</td>\n",
              "      <td>0</td>\n",
              "    </tr>\n",
              "    <tr>\n",
              "      <th>20972</th>\n",
              "      <td>Why optional stopping is a problem for Bayesians</td>\n",
              "      <td>Recently, optional stopping has been a subje...</td>\n",
              "      <td>0</td>\n",
              "      <td>0</td>\n",
              "      <td>1</td>\n",
              "      <td>1</td>\n",
              "      <td>0</td>\n",
              "      <td>0</td>\n",
              "    </tr>\n",
              "  </tbody>\n",
              "</table>\n",
              "<p>20972 rows × 8 columns</p>\n",
              "</div>"
            ],
            "text/plain": [
              "                                                   TITLE  ... Quantitative Finance\n",
              "ID                                                        ...                     \n",
              "1            Reconstructing Subject-Specific Effect Maps  ...                    0\n",
              "2                     Rotation Invariance Neural Network  ...                    0\n",
              "3      Spherical polyharmonics and Poisson kernels fo...  ...                    0\n",
              "4      A finite element approximation for the stochas...  ...                    0\n",
              "5      Comparative study of Discrete Wavelet Transfor...  ...                    0\n",
              "...                                                  ...  ...                  ...\n",
              "20968  Contemporary machine learning: a guide for pra...  ...                    0\n",
              "20969  Uniform diamond coatings on WC-Co hard alloy c...  ...                    0\n",
              "20970  Analysing Soccer Games with Clustering and Con...  ...                    0\n",
              "20971  On the Efficient Simulation of the Left-Tail o...  ...                    0\n",
              "20972   Why optional stopping is a problem for Bayesians  ...                    0\n",
              "\n",
              "[20972 rows x 8 columns]"
            ]
          },
          "metadata": {
            "tags": []
          },
          "execution_count": 3
        }
      ]
    },
    {
      "cell_type": "code",
      "metadata": {
        "id": "YYcmh_NbUc27",
        "colab_type": "code",
        "colab": {
          "base_uri": "https://localhost:8080/",
          "height": 431
        },
        "outputId": "6f7bb32c-9fde-4d44-ccc7-e2e259d3e6cb"
      },
      "source": [
        "data_test"
      ],
      "execution_count": 4,
      "outputs": [
        {
          "output_type": "execute_result",
          "data": {
            "text/html": [
              "<div>\n",
              "<style scoped>\n",
              "    .dataframe tbody tr th:only-of-type {\n",
              "        vertical-align: middle;\n",
              "    }\n",
              "\n",
              "    .dataframe tbody tr th {\n",
              "        vertical-align: top;\n",
              "    }\n",
              "\n",
              "    .dataframe thead th {\n",
              "        text-align: right;\n",
              "    }\n",
              "</style>\n",
              "<table border=\"1\" class=\"dataframe\">\n",
              "  <thead>\n",
              "    <tr style=\"text-align: right;\">\n",
              "      <th></th>\n",
              "      <th>TITLE</th>\n",
              "      <th>ABSTRACT</th>\n",
              "    </tr>\n",
              "    <tr>\n",
              "      <th>ID</th>\n",
              "      <th></th>\n",
              "      <th></th>\n",
              "    </tr>\n",
              "  </thead>\n",
              "  <tbody>\n",
              "    <tr>\n",
              "      <th>20973</th>\n",
              "      <td>Closed-form Marginal Likelihood in Gamma-Poiss...</td>\n",
              "      <td>We present novel understandings of the Gamma...</td>\n",
              "    </tr>\n",
              "    <tr>\n",
              "      <th>20974</th>\n",
              "      <td>Laboratory mid-IR spectra of equilibrated and ...</td>\n",
              "      <td>Meteorites contain minerals from Solar Syste...</td>\n",
              "    </tr>\n",
              "    <tr>\n",
              "      <th>20975</th>\n",
              "      <td>Case For Static AMSDU Aggregation in WLANs</td>\n",
              "      <td>Frame aggregation is a mechanism by which mu...</td>\n",
              "    </tr>\n",
              "    <tr>\n",
              "      <th>20976</th>\n",
              "      <td>The $Gaia$-ESO Survey: the inner disk intermed...</td>\n",
              "      <td>Milky Way open clusters are very diverse in ...</td>\n",
              "    </tr>\n",
              "    <tr>\n",
              "      <th>20977</th>\n",
              "      <td>Witness-Functions versus Interpretation-Functi...</td>\n",
              "      <td>Proving that a cryptographic protocol is cor...</td>\n",
              "    </tr>\n",
              "    <tr>\n",
              "      <th>...</th>\n",
              "      <td>...</td>\n",
              "      <td>...</td>\n",
              "    </tr>\n",
              "    <tr>\n",
              "      <th>29957</th>\n",
              "      <td>Supporting mixed-datatype matrix multiplicatio...</td>\n",
              "      <td>We approach the problem of implementing mixe...</td>\n",
              "    </tr>\n",
              "    <tr>\n",
              "      <th>29958</th>\n",
              "      <td>An axiomatic basis for Blackwell optimality</td>\n",
              "      <td>In the theory of Markov decision processes (...</td>\n",
              "    </tr>\n",
              "    <tr>\n",
              "      <th>29959</th>\n",
              "      <td>GeneVis - An interactive visualization tool fo...</td>\n",
              "      <td>GeneVis is a web-based tool to visualize com...</td>\n",
              "    </tr>\n",
              "    <tr>\n",
              "      <th>29960</th>\n",
              "      <td>Quantifying the causal effect of speed cameras...</td>\n",
              "      <td>This paper quantifies the effect of speed ca...</td>\n",
              "    </tr>\n",
              "    <tr>\n",
              "      <th>29961</th>\n",
              "      <td>Cube-magic labelings of grids</td>\n",
              "      <td>We show that the vertices and edges of a $d$...</td>\n",
              "    </tr>\n",
              "  </tbody>\n",
              "</table>\n",
              "<p>8989 rows × 2 columns</p>\n",
              "</div>"
            ],
            "text/plain": [
              "                                                   TITLE                                           ABSTRACT\n",
              "ID                                                                                                         \n",
              "20973  Closed-form Marginal Likelihood in Gamma-Poiss...    We present novel understandings of the Gamma...\n",
              "20974  Laboratory mid-IR spectra of equilibrated and ...    Meteorites contain minerals from Solar Syste...\n",
              "20975         Case For Static AMSDU Aggregation in WLANs    Frame aggregation is a mechanism by which mu...\n",
              "20976  The $Gaia$-ESO Survey: the inner disk intermed...    Milky Way open clusters are very diverse in ...\n",
              "20977  Witness-Functions versus Interpretation-Functi...    Proving that a cryptographic protocol is cor...\n",
              "...                                                  ...                                                ...\n",
              "29957  Supporting mixed-datatype matrix multiplicatio...    We approach the problem of implementing mixe...\n",
              "29958        An axiomatic basis for Blackwell optimality    In the theory of Markov decision processes (...\n",
              "29959  GeneVis - An interactive visualization tool fo...    GeneVis is a web-based tool to visualize com...\n",
              "29960  Quantifying the causal effect of speed cameras...    This paper quantifies the effect of speed ca...\n",
              "29961                      Cube-magic labelings of grids    We show that the vertices and edges of a $d$...\n",
              "\n",
              "[8989 rows x 2 columns]"
            ]
          },
          "metadata": {
            "tags": []
          },
          "execution_count": 4
        }
      ]
    },
    {
      "cell_type": "code",
      "metadata": {
        "id": "q_yVtN2rVT8-",
        "colab_type": "code",
        "colab": {
          "base_uri": "https://localhost:8080/",
          "height": 616
        },
        "outputId": "8b00bcaa-a0d9-463a-802d-ad103b74694b"
      },
      "source": [
        "df=pd.concat([data_train,data_test],axis=0)\n",
        "df"
      ],
      "execution_count": 5,
      "outputs": [
        {
          "output_type": "execute_result",
          "data": {
            "text/html": [
              "<div>\n",
              "<style scoped>\n",
              "    .dataframe tbody tr th:only-of-type {\n",
              "        vertical-align: middle;\n",
              "    }\n",
              "\n",
              "    .dataframe tbody tr th {\n",
              "        vertical-align: top;\n",
              "    }\n",
              "\n",
              "    .dataframe thead th {\n",
              "        text-align: right;\n",
              "    }\n",
              "</style>\n",
              "<table border=\"1\" class=\"dataframe\">\n",
              "  <thead>\n",
              "    <tr style=\"text-align: right;\">\n",
              "      <th></th>\n",
              "      <th>TITLE</th>\n",
              "      <th>ABSTRACT</th>\n",
              "      <th>Computer Science</th>\n",
              "      <th>Physics</th>\n",
              "      <th>Mathematics</th>\n",
              "      <th>Statistics</th>\n",
              "      <th>Quantitative Biology</th>\n",
              "      <th>Quantitative Finance</th>\n",
              "    </tr>\n",
              "    <tr>\n",
              "      <th>ID</th>\n",
              "      <th></th>\n",
              "      <th></th>\n",
              "      <th></th>\n",
              "      <th></th>\n",
              "      <th></th>\n",
              "      <th></th>\n",
              "      <th></th>\n",
              "      <th></th>\n",
              "    </tr>\n",
              "  </thead>\n",
              "  <tbody>\n",
              "    <tr>\n",
              "      <th>1</th>\n",
              "      <td>Reconstructing Subject-Specific Effect Maps</td>\n",
              "      <td>Predictive models allow subject-specific inf...</td>\n",
              "      <td>1.0</td>\n",
              "      <td>0.0</td>\n",
              "      <td>0.0</td>\n",
              "      <td>0.0</td>\n",
              "      <td>0.0</td>\n",
              "      <td>0.0</td>\n",
              "    </tr>\n",
              "    <tr>\n",
              "      <th>2</th>\n",
              "      <td>Rotation Invariance Neural Network</td>\n",
              "      <td>Rotation invariance and translation invarian...</td>\n",
              "      <td>1.0</td>\n",
              "      <td>0.0</td>\n",
              "      <td>0.0</td>\n",
              "      <td>0.0</td>\n",
              "      <td>0.0</td>\n",
              "      <td>0.0</td>\n",
              "    </tr>\n",
              "    <tr>\n",
              "      <th>3</th>\n",
              "      <td>Spherical polyharmonics and Poisson kernels fo...</td>\n",
              "      <td>We introduce and develop the notion of spher...</td>\n",
              "      <td>0.0</td>\n",
              "      <td>0.0</td>\n",
              "      <td>1.0</td>\n",
              "      <td>0.0</td>\n",
              "      <td>0.0</td>\n",
              "      <td>0.0</td>\n",
              "    </tr>\n",
              "    <tr>\n",
              "      <th>4</th>\n",
              "      <td>A finite element approximation for the stochas...</td>\n",
              "      <td>The stochastic Landau--Lifshitz--Gilbert (LL...</td>\n",
              "      <td>0.0</td>\n",
              "      <td>0.0</td>\n",
              "      <td>1.0</td>\n",
              "      <td>0.0</td>\n",
              "      <td>0.0</td>\n",
              "      <td>0.0</td>\n",
              "    </tr>\n",
              "    <tr>\n",
              "      <th>5</th>\n",
              "      <td>Comparative study of Discrete Wavelet Transfor...</td>\n",
              "      <td>Fourier-transform infra-red (FTIR) spectra o...</td>\n",
              "      <td>1.0</td>\n",
              "      <td>0.0</td>\n",
              "      <td>0.0</td>\n",
              "      <td>1.0</td>\n",
              "      <td>0.0</td>\n",
              "      <td>0.0</td>\n",
              "    </tr>\n",
              "    <tr>\n",
              "      <th>...</th>\n",
              "      <td>...</td>\n",
              "      <td>...</td>\n",
              "      <td>...</td>\n",
              "      <td>...</td>\n",
              "      <td>...</td>\n",
              "      <td>...</td>\n",
              "      <td>...</td>\n",
              "      <td>...</td>\n",
              "    </tr>\n",
              "    <tr>\n",
              "      <th>29957</th>\n",
              "      <td>Supporting mixed-datatype matrix multiplicatio...</td>\n",
              "      <td>We approach the problem of implementing mixe...</td>\n",
              "      <td>NaN</td>\n",
              "      <td>NaN</td>\n",
              "      <td>NaN</td>\n",
              "      <td>NaN</td>\n",
              "      <td>NaN</td>\n",
              "      <td>NaN</td>\n",
              "    </tr>\n",
              "    <tr>\n",
              "      <th>29958</th>\n",
              "      <td>An axiomatic basis for Blackwell optimality</td>\n",
              "      <td>In the theory of Markov decision processes (...</td>\n",
              "      <td>NaN</td>\n",
              "      <td>NaN</td>\n",
              "      <td>NaN</td>\n",
              "      <td>NaN</td>\n",
              "      <td>NaN</td>\n",
              "      <td>NaN</td>\n",
              "    </tr>\n",
              "    <tr>\n",
              "      <th>29959</th>\n",
              "      <td>GeneVis - An interactive visualization tool fo...</td>\n",
              "      <td>GeneVis is a web-based tool to visualize com...</td>\n",
              "      <td>NaN</td>\n",
              "      <td>NaN</td>\n",
              "      <td>NaN</td>\n",
              "      <td>NaN</td>\n",
              "      <td>NaN</td>\n",
              "      <td>NaN</td>\n",
              "    </tr>\n",
              "    <tr>\n",
              "      <th>29960</th>\n",
              "      <td>Quantifying the causal effect of speed cameras...</td>\n",
              "      <td>This paper quantifies the effect of speed ca...</td>\n",
              "      <td>NaN</td>\n",
              "      <td>NaN</td>\n",
              "      <td>NaN</td>\n",
              "      <td>NaN</td>\n",
              "      <td>NaN</td>\n",
              "      <td>NaN</td>\n",
              "    </tr>\n",
              "    <tr>\n",
              "      <th>29961</th>\n",
              "      <td>Cube-magic labelings of grids</td>\n",
              "      <td>We show that the vertices and edges of a $d$...</td>\n",
              "      <td>NaN</td>\n",
              "      <td>NaN</td>\n",
              "      <td>NaN</td>\n",
              "      <td>NaN</td>\n",
              "      <td>NaN</td>\n",
              "      <td>NaN</td>\n",
              "    </tr>\n",
              "  </tbody>\n",
              "</table>\n",
              "<p>29961 rows × 8 columns</p>\n",
              "</div>"
            ],
            "text/plain": [
              "                                                   TITLE  ... Quantitative Finance\n",
              "ID                                                        ...                     \n",
              "1            Reconstructing Subject-Specific Effect Maps  ...                  0.0\n",
              "2                     Rotation Invariance Neural Network  ...                  0.0\n",
              "3      Spherical polyharmonics and Poisson kernels fo...  ...                  0.0\n",
              "4      A finite element approximation for the stochas...  ...                  0.0\n",
              "5      Comparative study of Discrete Wavelet Transfor...  ...                  0.0\n",
              "...                                                  ...  ...                  ...\n",
              "29957  Supporting mixed-datatype matrix multiplicatio...  ...                  NaN\n",
              "29958        An axiomatic basis for Blackwell optimality  ...                  NaN\n",
              "29959  GeneVis - An interactive visualization tool fo...  ...                  NaN\n",
              "29960  Quantifying the causal effect of speed cameras...  ...                  NaN\n",
              "29961                      Cube-magic labelings of grids  ...                  NaN\n",
              "\n",
              "[29961 rows x 8 columns]"
            ]
          },
          "metadata": {
            "tags": []
          },
          "execution_count": 5
        }
      ]
    },
    {
      "cell_type": "code",
      "metadata": {
        "id": "UEUavcp3VpSq",
        "colab_type": "code",
        "colab": {
          "base_uri": "https://localhost:8080/",
          "height": 235
        },
        "outputId": "5e19e2df-482e-4c4b-f456-b69b0eab20de"
      },
      "source": [
        "df['train']=[1] * len(data_train) + [0]*len(data_test)\n",
        "df['train']"
      ],
      "execution_count": 6,
      "outputs": [
        {
          "output_type": "execute_result",
          "data": {
            "text/plain": [
              "ID\n",
              "1        1\n",
              "2        1\n",
              "3        1\n",
              "4        1\n",
              "5        1\n",
              "        ..\n",
              "29957    0\n",
              "29958    0\n",
              "29959    0\n",
              "29960    0\n",
              "29961    0\n",
              "Name: train, Length: 29961, dtype: int64"
            ]
          },
          "metadata": {
            "tags": []
          },
          "execution_count": 6
        }
      ]
    },
    {
      "cell_type": "code",
      "metadata": {
        "id": "Gt-CvtXWYSQJ",
        "colab_type": "code",
        "colab": {
          "base_uri": "https://localhost:8080/",
          "height": 185
        },
        "outputId": "bcefdc26-6133-42fe-a871-cd0f72f8efe7"
      },
      "source": [
        "df[df.train==1].isnull().any()\n",
        "df[df.train==0].isnull().any()"
      ],
      "execution_count": 21,
      "outputs": [
        {
          "output_type": "execute_result",
          "data": {
            "text/plain": [
              "TITLE                   False\n",
              "ABSTRACT                False\n",
              "Computer Science         True\n",
              "Physics                  True\n",
              "Mathematics              True\n",
              "Statistics               True\n",
              "Quantitative Biology     True\n",
              "Quantitative Finance     True\n",
              "train                   False\n",
              "dtype: bool"
            ]
          },
          "metadata": {
            "tags": []
          },
          "execution_count": 21
        }
      ]
    },
    {
      "cell_type": "code",
      "metadata": {
        "id": "1llJ0kWvpS8k",
        "colab_type": "code",
        "colab": {}
      },
      "source": [
        "df"
      ],
      "execution_count": null,
      "outputs": []
    },
    {
      "cell_type": "markdown",
      "metadata": {
        "id": "B9U7pk52VK7C",
        "colab_type": "text"
      },
      "source": [
        "#Reading data"
      ]
    },
    {
      "cell_type": "code",
      "metadata": {
        "id": "2BPoBDu5UsUH",
        "colab_type": "code",
        "colab": {
          "base_uri": "https://localhost:8080/",
          "height": 0
        },
        "outputId": "73aee518-eb84-411d-9faa-d2e0c8530d4e"
      },
      "source": [
        "df.iloc[10]['ABSTRACT'], df.iloc[10]['TITLE']"
      ],
      "execution_count": 8,
      "outputs": [
        {
          "output_type": "execute_result",
          "data": {
            "text/plain": [
              "('  We present a systematic global sensitivity analysis using the Sobol method\\nwhich can be utilized to rank the variables that affect two quantity of\\ninterests -- pore pressure depletion and stress change -- around a\\nhydraulically-fractured horizontal well based on their degree of importance.\\nThese variables include rock properties and stimulation design variables. A\\nfully-coupled poroelastic hydraulic fracture model is used to account for pore\\npressure and stress changes due to production. To ease the computational cost\\nof a simulator, we also provide reduced order models (ROMs), which can be used\\nto replace the complex numerical model with a rather simple analytical model,\\nfor calculating the pore pressure and stresses at different locations around\\nhydraulic fractures. The main findings of this research are: (i) mobility,\\nproduction pressure, and fracture half-length are the main contributors to the\\nchanges in the quantities of interest. The percentage of the contribution of\\neach parameter depends on the location with respect to pre-existing hydraulic\\nfractures and the quantity of interest. (ii) As the time progresses, the effect\\nof mobility decreases and the effect of production pressure increases. (iii)\\nThese two variables are also dominant for horizontal stresses at large\\ndistances from hydraulic fractures. (iv) At zones close to hydraulic fracture\\ntips or inside the spacing area, other parameters such as fracture spacing and\\nhalf-length are the dominant factors that affect the minimum horizontal stress.\\nThe results of this study will provide useful guidelines for the stimulation\\ndesign of legacy wells and secondary operations such as refracturing and infill\\ndrilling.\\n',\n",
              " 'A global sensitivity analysis and reduced order models for hydraulically-fractured horizontal wells')"
            ]
          },
          "metadata": {
            "tags": []
          },
          "execution_count": 8
        }
      ]
    },
    {
      "cell_type": "markdown",
      "metadata": {
        "id": "wEWYoFoXbO04",
        "colab_type": "text"
      },
      "source": [
        "#Y"
      ]
    },
    {
      "cell_type": "code",
      "metadata": {
        "id": "KzX6QfqRbZog",
        "colab_type": "code",
        "colab": {}
      },
      "source": [
        "Y_train=df[df.train==1].iloc[:,2:-1]"
      ],
      "execution_count": 9,
      "outputs": []
    },
    {
      "cell_type": "code",
      "metadata": {
        "id": "1_u1vElKbGgM",
        "colab_type": "code",
        "colab": {
          "base_uri": "https://localhost:8080/",
          "height": 0
        },
        "outputId": "24049d8e-060f-4928-fed8-6aac356e93f0"
      },
      "source": [
        "np.asarray(Y_train)"
      ],
      "execution_count": 10,
      "outputs": [
        {
          "output_type": "error",
          "ename": "NameError",
          "evalue": "ignored",
          "traceback": [
            "\u001b[0;31m---------------------------------------------------------------------------\u001b[0m",
            "\u001b[0;31mNameError\u001b[0m                                 Traceback (most recent call last)",
            "\u001b[0;32m<ipython-input-10-6afdc1509257>\u001b[0m in \u001b[0;36m<module>\u001b[0;34m()\u001b[0m\n\u001b[0;32m----> 1\u001b[0;31m \u001b[0mnp\u001b[0m\u001b[0;34m.\u001b[0m\u001b[0masarray\u001b[0m\u001b[0;34m(\u001b[0m\u001b[0mY_train\u001b[0m\u001b[0;34m)\u001b[0m\u001b[0;34m\u001b[0m\u001b[0;34m\u001b[0m\u001b[0m\n\u001b[0m",
            "\u001b[0;31mNameError\u001b[0m: name 'np' is not defined"
          ]
        }
      ]
    },
    {
      "cell_type": "markdown",
      "metadata": {
        "id": "WIGo6bSEebS2",
        "colab_type": "text"
      },
      "source": [
        "#X dataset"
      ]
    },
    {
      "cell_type": "code",
      "metadata": {
        "id": "Ad0-A72ZYXJB",
        "colab_type": "code",
        "colab": {}
      },
      "source": [
        "X_train_val=df[\"TITLE\"]\n",
        "X_train=df[df.train==1]['TITLE']\n",
        "X_test=df[df.train==0]['TITLE']"
      ],
      "execution_count": 28,
      "outputs": []
    },
    {
      "cell_type": "code",
      "metadata": {
        "id": "Tdi8UpINg9P4",
        "colab_type": "code",
        "colab": {
          "base_uri": "https://localhost:8080/",
          "height": 437
        },
        "outputId": "8fc30712-06f5-417c-cb66-2f76f94cd00a"
      },
      "source": [
        "X_train,X_test"
      ],
      "execution_count": 23,
      "outputs": [
        {
          "output_type": "execute_result",
          "data": {
            "text/plain": [
              "(ID\n",
              " 1              Reconstructing Subject-Specific Effect Maps\n",
              " 2                       Rotation Invariance Neural Network\n",
              " 3        Spherical polyharmonics and Poisson kernels fo...\n",
              " 4        A finite element approximation for the stochas...\n",
              " 5        Comparative study of Discrete Wavelet Transfor...\n",
              "                                ...                        \n",
              " 20968    Contemporary machine learning: a guide for pra...\n",
              " 20969    Uniform diamond coatings on WC-Co hard alloy c...\n",
              " 20970    Analysing Soccer Games with Clustering and Con...\n",
              " 20971    On the Efficient Simulation of the Left-Tail o...\n",
              " 20972     Why optional stopping is a problem for Bayesians\n",
              " Name: TITLE, Length: 20972, dtype: object, ID\n",
              " 20973    Closed-form Marginal Likelihood in Gamma-Poiss...\n",
              " 20974    Laboratory mid-IR spectra of equilibrated and ...\n",
              " 20975           Case For Static AMSDU Aggregation in WLANs\n",
              " 20976    The $Gaia$-ESO Survey: the inner disk intermed...\n",
              " 20977    Witness-Functions versus Interpretation-Functi...\n",
              "                                ...                        \n",
              " 29957    Supporting mixed-datatype matrix multiplicatio...\n",
              " 29958          An axiomatic basis for Blackwell optimality\n",
              " 29959    GeneVis - An interactive visualization tool fo...\n",
              " 29960    Quantifying the causal effect of speed cameras...\n",
              " 29961                        Cube-magic labelings of grids\n",
              " Name: TITLE, Length: 8989, dtype: object)"
            ]
          },
          "metadata": {
            "tags": []
          },
          "execution_count": 23
        }
      ]
    },
    {
      "cell_type": "markdown",
      "metadata": {
        "id": "NHV5wCdqhcuE",
        "colab_type": "text"
      },
      "source": [
        "#Dataset Split"
      ]
    },
    {
      "cell_type": "code",
      "metadata": {
        "id": "2uAOtmE8hM2_",
        "colab_type": "code",
        "colab": {}
      },
      "source": [
        "from sklearn.model_selection import train_test_split"
      ],
      "execution_count": 25,
      "outputs": []
    },
    {
      "cell_type": "code",
      "metadata": {
        "id": "DtKw65Srhqhr",
        "colab_type": "code",
        "colab": {
          "base_uri": "https://localhost:8080/",
          "height": 34
        },
        "outputId": "3707118b-6db4-490d-c8d8-7dcdae31f7dc"
      },
      "source": [
        "X_train,X_val,Y_train,Y_val=train_test_split(X_train_val,Y_train,random_state=42,test_size=0.2)\n",
        "print(X_train.shape,X_val.shape,Y_train.shape,Y_val.shape)"
      ],
      "execution_count": 27,
      "outputs": [
        {
          "output_type": "stream",
          "text": [
            "(16777,) (4195,) (16777, 6) (4195, 6)\n"
          ],
          "name": "stdout"
        }
      ]
    },
    {
      "cell_type": "markdown",
      "metadata": {
        "id": "B9rxMnZOkEbc",
        "colab_type": "text"
      },
      "source": [
        "#Using GloVe"
      ]
    },
    {
      "cell_type": "code",
      "metadata": {
        "id": "9IFdW55lvtdy",
        "colab_type": "code",
        "colab": {
          "base_uri": "https://localhost:8080/",
          "height": 353
        },
        "outputId": "efa4b7a0-1a5f-4a5c-c070-73a2a70dd7cb"
      },
      "source": [
        "!wget 'http://nlp.stanford.edu/data/glove.6B.zip'             #getting the GloVe embeddings"
      ],
      "execution_count": 24,
      "outputs": [
        {
          "output_type": "stream",
          "text": [
            "--2020-08-18 07:58:05--  http://nlp.stanford.edu/data/glove.6B.zip\n",
            "Resolving nlp.stanford.edu (nlp.stanford.edu)... 171.64.67.140\n",
            "Connecting to nlp.stanford.edu (nlp.stanford.edu)|171.64.67.140|:80... connected.\n",
            "HTTP request sent, awaiting response... 302 Found\n",
            "Location: https://nlp.stanford.edu/data/glove.6B.zip [following]\n",
            "--2020-08-18 07:58:06--  https://nlp.stanford.edu/data/glove.6B.zip\n",
            "Connecting to nlp.stanford.edu (nlp.stanford.edu)|171.64.67.140|:443... connected.\n",
            "HTTP request sent, awaiting response... 301 Moved Permanently\n",
            "Location: http://downloads.cs.stanford.edu/nlp/data/glove.6B.zip [following]\n",
            "--2020-08-18 07:58:06--  http://downloads.cs.stanford.edu/nlp/data/glove.6B.zip\n",
            "Resolving downloads.cs.stanford.edu (downloads.cs.stanford.edu)... 171.64.64.22\n",
            "Connecting to downloads.cs.stanford.edu (downloads.cs.stanford.edu)|171.64.64.22|:80... connected.\n",
            "HTTP request sent, awaiting response... 200 OK\n",
            "Length: 862182613 (822M) [application/zip]\n",
            "Saving to: ‘glove.6B.zip’\n",
            "\n",
            "glove.6B.zip        100%[===================>] 822.24M  1.77MB/s    in 6m 31s  \n",
            "\n",
            "2020-08-18 08:04:38 (2.10 MB/s) - ‘glove.6B.zip’ saved [862182613/862182613]\n",
            "\n"
          ],
          "name": "stdout"
        }
      ]
    },
    {
      "cell_type": "code",
      "metadata": {
        "id": "9iuDjdQeV5Y7",
        "colab_type": "code",
        "colab": {
          "base_uri": "https://localhost:8080/",
          "height": 101
        },
        "outputId": "0c095632-3dc1-465a-d853-db27e327b216"
      },
      "source": [
        " !unzip \"/content/glove.6B.zip\""
      ],
      "execution_count": 25,
      "outputs": [
        {
          "output_type": "stream",
          "text": [
            "Archive:  /content/glove.6B.zip\n",
            "  inflating: glove.6B.50d.txt        \n",
            "  inflating: glove.6B.100d.txt       \n",
            "  inflating: glove.6B.200d.txt       \n",
            "  inflating: glove.6B.300d.txt       \n"
          ],
          "name": "stdout"
        }
      ]
    },
    {
      "cell_type": "code",
      "metadata": {
        "id": "FO0kXuVFYReR",
        "colab_type": "code",
        "colab": {}
      },
      "source": [
        "with open('/content/glove.6B.50d.txt','r') as f:                   #using embeddings with 50 dimentions\n",
        "  doc=f.readlines()"
      ],
      "execution_count": 11,
      "outputs": []
    },
    {
      "cell_type": "code",
      "metadata": {
        "id": "7ut87EYgozUb",
        "colab_type": "code",
        "colab": {}
      },
      "source": [
        "embedding_list={}                                    #dict: keys=words Values=Embeddings\n",
        "\n",
        "for line in doc:\n",
        "  sen=line.split()\n",
        "  embedding_list[sen[0]]=sen[1:]\n",
        "embedding_list  \n"
      ],
      "execution_count": null,
      "outputs": []
    },
    {
      "cell_type": "markdown",
      "metadata": {
        "id": "LlM2wZyInLIU",
        "colab_type": "text"
      },
      "source": [
        "#Setting processing input  "
      ]
    },
    {
      "cell_type": "code",
      "metadata": {
        "id": "mHileqkQoPI1",
        "colab_type": "code",
        "colab": {}
      },
      "source": [
        "from tensorflow.keras.preprocessing.text import Tokenizer \n",
        "from tensorflow.keras.preprocessing.sequence import pad_sequences"
      ],
      "execution_count": 13,
      "outputs": []
    },
    {
      "cell_type": "code",
      "metadata": {
        "id": "UteFmHChm9Vw",
        "colab_type": "code",
        "colab": {
          "base_uri": "https://localhost:8080/",
          "height": 34
        },
        "outputId": "8f532829-1fd3-421b-b752-3f46c61cb490"
      },
      "source": [
        "ov_tok='<OOV>'\n",
        "EMBEDDING_DIM=50\n",
        "max_len=max([len(i) for i in df.TITLE])\n",
        "print(max_len)\n",
        "vocab_size=10000"
      ],
      "execution_count": 14,
      "outputs": [
        {
          "output_type": "stream",
          "text": [
            "239\n"
          ],
          "name": "stdout"
        }
      ]
    },
    {
      "cell_type": "code",
      "metadata": {
        "id": "h44v1Y3Qn26X",
        "colab_type": "code",
        "colab": {}
      },
      "source": [
        "tokenizer=Tokenizer(num_words=vocab_size,oov_token=ov_tok,lower=True)\n",
        "tokenizer.fit_on_texts(X_train_val)\n",
        "\n",
        "X_train_sequences= tokenizer.texts_to_sequences(X_train)\n",
        "X_test_sequences= tokenizer.texts_to_sequences(X_test)\n",
        "X_val_sequences= tokenizer.texts_to_sequences(X_val)\n",
        "\n",
        "word_index=tokenizer.word_index\n",
        "\n",
        "X_train_pad=pad_sequences(X_train_sequences, padding=\"post\",truncating='post',maxlen=max_len)\n",
        "X_val_pad=pad_sequences(X_val_sequences, padding=\"post\",truncating='post',maxlen=max_len)\n",
        "X_test_pad=pad_sequences(X_test_sequences, padding=\"post\",truncating='post',maxlen=max_len)"
      ],
      "execution_count": 32,
      "outputs": []
    },
    {
      "cell_type": "code",
      "metadata": {
        "id": "GamHoSdYvITi",
        "colab_type": "code",
        "colab": {}
      },
      "source": [
        "X_train_pad"
      ],
      "execution_count": null,
      "outputs": []
    },
    {
      "cell_type": "code",
      "metadata": {
        "id": "TEO3cqpauRhu",
        "colab_type": "code",
        "colab": {}
      },
      "source": [
        "len(word_index)"
      ],
      "execution_count": null,
      "outputs": []
    },
    {
      "cell_type": "code",
      "metadata": {
        "id": "k1lQX4dSuTbE",
        "colab_type": "code",
        "colab": {
          "base_uri": "https://localhost:8080/",
          "height": 235
        },
        "outputId": "2ff2bd0b-1dcd-4fd2-ea4c-1579b88dc03f"
      },
      "source": [
        "vocab_size=len(word_index) + 1\n",
        "embedding_matrix=np.zeros((vocab_size,EMBEDDING_DIM))\n",
        "\n",
        "for word,i in (word_index.items()):\n",
        "  embedding_vector=embedding_list.get(word)\n",
        "  if embedding_vector:\n",
        "    embedding_matrix[i]=embedding_list[word]\n",
        "    \n",
        "embedding_matrix  "
      ],
      "execution_count": 46,
      "outputs": [
        {
          "output_type": "execute_result",
          "data": {
            "text/plain": [
              "array([[ 0.      ,  0.      ,  0.      , ...,  0.      ,  0.      ,\n",
              "         0.      ],\n",
              "       [ 0.      ,  0.      ,  0.      , ...,  0.      ,  0.      ,\n",
              "         0.      ],\n",
              "       [ 0.70853 ,  0.57088 , -0.4716  , ..., -0.22562 , -0.093918,\n",
              "        -0.80375 ],\n",
              "       ...,\n",
              "       [ 0.      ,  0.      ,  0.      , ...,  0.      ,  0.      ,\n",
              "         0.      ],\n",
              "       [-1.0536  , -0.093467, -1.3263  , ...,  0.62213 ,  0.31558 ,\n",
              "        -0.086638],\n",
              "       [ 0.55788 , -0.11313 ,  0.54684 , ...,  0.59999 ,  0.91816 ,\n",
              "        -0.40357 ]])"
            ]
          },
          "metadata": {
            "tags": []
          },
          "execution_count": 46
        }
      ]
    },
    {
      "cell_type": "code",
      "metadata": {
        "id": "iO5N5R22uTZv",
        "colab_type": "code",
        "colab": {}
      },
      "source": [
        "X_train_padded = np.array(X_train_pad).astype(np.float32)                                #converting to float as tensors need float datatype\n",
        "X_test_padded = np.array(X_test_pad).astype(np.float32)\n",
        "X_val_padded = np.array(X_val_pad).astype(np.float32)\n",
        "\n",
        "Y_train = np.array(Y_train).astype(np.float32)\n",
        "#Y_test = np.array(Y_test).astype(np.float32)\n",
        "Y_val = np.array(Y_val).astype(np.float32)"
      ],
      "execution_count": 56,
      "outputs": []
    },
    {
      "cell_type": "code",
      "metadata": {
        "id": "ZSL2rLHqyTci",
        "colab_type": "code",
        "colab": {
          "base_uri": "https://localhost:8080/",
          "height": 34
        },
        "outputId": "c0088451-7ee2-4922-ba43-bce149e48344"
      },
      "source": [
        "type(Y_train)"
      ],
      "execution_count": 55,
      "outputs": [
        {
          "output_type": "execute_result",
          "data": {
            "text/plain": [
              "pandas.core.frame.DataFrame"
            ]
          },
          "metadata": {
            "tags": []
          },
          "execution_count": 55
        }
      ]
    },
    {
      "cell_type": "markdown",
      "metadata": {
        "id": "jyDlZ8IRt6B8",
        "colab_type": "text"
      },
      "source": [
        "#Model"
      ]
    },
    {
      "cell_type": "code",
      "metadata": {
        "id": "XBoh8e6mpyTN",
        "colab_type": "code",
        "colab": {
          "base_uri": "https://localhost:8080/",
          "height": 34
        },
        "outputId": "666493a8-1833-4fed-c49c-469722fa13c9"
      },
      "source": [
        "import tensorflow as tf\n",
        "import numpy as np\n",
        "from tensorflow import keras\n",
        "from tensorflow.keras import layers\n",
        "from __future__ import division, print_function\n",
        "from keras.callbacks import ModelCheckpoint\n",
        "from keras.layers import Dense, Dropout, BatchNormalization\n",
        "from keras.models import Sequential\n",
        "from keras.models import Model"
      ],
      "execution_count": 33,
      "outputs": [
        {
          "output_type": "stream",
          "text": [
            "Using TensorFlow backend.\n"
          ],
          "name": "stderr"
        }
      ]
    },
    {
      "cell_type": "code",
      "metadata": {
        "id": "xsXG3j5tuCfZ",
        "colab_type": "code",
        "colab": {
          "base_uri": "https://localhost:8080/",
          "height": 286
        },
        "outputId": "8c56a1d8-7381-4347-c722-04fea435d8dc"
      },
      "source": [
        "model=tf.keras.Sequential([\n",
        "                           tf.keras.layers.Embedding(vocab_size,EMBEDDING_DIM,weights=[embedding_matrix],input_length=max_len),\n",
        "                           tf.keras.layers.GlobalAveragePooling1D(),\n",
        "                           tf.keras.layers.Dense(64,activation='sigmoid'),\n",
        "                           tf.keras.layers.Dense(6,activation='sigmoid')\n",
        "])\n",
        "\n",
        "model.compile(optimizer='adam',loss='categorical_crossentropy',metrics=['acc'])\n",
        "model.summary()"
      ],
      "execution_count": 79,
      "outputs": [
        {
          "output_type": "stream",
          "text": [
            "Model: \"sequential_5\"\n",
            "_________________________________________________________________\n",
            "Layer (type)                 Output Shape              Param #   \n",
            "=================================================================\n",
            "embedding_5 (Embedding)      (None, 239, 50)           1159850   \n",
            "_________________________________________________________________\n",
            "global_average_pooling1d_5 ( (None, 50)                0         \n",
            "_________________________________________________________________\n",
            "dense_10 (Dense)             (None, 64)                3264      \n",
            "_________________________________________________________________\n",
            "dense_11 (Dense)             (None, 6)                 390       \n",
            "=================================================================\n",
            "Total params: 1,163,504\n",
            "Trainable params: 1,163,504\n",
            "Non-trainable params: 0\n",
            "_________________________________________________________________\n"
          ],
          "name": "stdout"
        }
      ]
    },
    {
      "cell_type": "code",
      "metadata": {
        "id": "dZklr1iq5rLW",
        "colab_type": "code",
        "colab": {}
      },
      "source": [
        "checkpoint_filepath = '/content/checkpoint'\n",
        "model_checkpoint_callback = tf.keras.callbacks.ModelCheckpoint(\n",
        "    filepath=checkpoint_filepath,\n",
        "    save_weights_only=True,\n",
        "    monitor='val_acc',\n",
        "    mode='max',\n",
        "    save_best_only=True)\n"
      ],
      "execution_count": 80,
      "outputs": []
    },
    {
      "cell_type": "code",
      "metadata": {
        "id": "eMC3ECkUzy7a",
        "colab_type": "code",
        "colab": {
          "base_uri": "https://localhost:8080/",
          "height": 706
        },
        "outputId": "e207a6c4-3769-4d6f-a7b0-4c57e3a58f30"
      },
      "source": [
        "num_epochs=20\n",
        "batch_size=32\n",
        "\n",
        "history=model.fit(X_train_padded,\n",
        "                  Y_train,\n",
        "                  batch_size,\n",
        "                  num_epochs,\n",
        "                  validation_data=(X_val_padded,Y_val),\n",
        "                  shuffle=True,\n",
        "                  callbacks=[model_checkpoint_callback]\n",
        "                  \n",
        "                  )\n"
      ],
      "execution_count": 81,
      "outputs": [
        {
          "output_type": "stream",
          "text": [
            "Train on 16777 samples, validate on 4195 samples\n",
            "Epoch 1/20\n",
            "16777/16777 [==============================] - 9s 508us/sample - loss: 1.8905 - acc: 0.3855 - val_loss: 1.8738 - val_acc: 0.4033\n",
            "Epoch 2/20\n",
            "16777/16777 [==============================] - 8s 499us/sample - loss: 1.8421 - acc: 0.4114 - val_loss: 1.8504 - val_acc: 0.4033\n",
            "Epoch 3/20\n",
            "16777/16777 [==============================] - 9s 528us/sample - loss: 1.7489 - acc: 0.4817 - val_loss: 1.6391 - val_acc: 0.5988\n",
            "Epoch 4/20\n",
            "16777/16777 [==============================] - 8s 484us/sample - loss: 1.4911 - acc: 0.6629 - val_loss: 1.4313 - val_acc: 0.6889\n",
            "Epoch 5/20\n",
            "16777/16777 [==============================] - 8s 482us/sample - loss: 1.3280 - acc: 0.7104 - val_loss: 1.3352 - val_acc: 0.6999\n",
            "Epoch 6/20\n",
            "16777/16777 [==============================] - 8s 478us/sample - loss: 1.2369 - acc: 0.7263 - val_loss: 1.2782 - val_acc: 0.7197\n",
            "Epoch 7/20\n",
            "16777/16777 [==============================] - 8s 475us/sample - loss: 1.1815 - acc: 0.7382 - val_loss: 1.2644 - val_acc: 0.7268\n",
            "Epoch 8/20\n",
            "16777/16777 [==============================] - 8s 477us/sample - loss: 1.1441 - acc: 0.7434 - val_loss: 1.2305 - val_acc: 0.7275\n",
            "Epoch 9/20\n",
            "16777/16777 [==============================] - 8s 478us/sample - loss: 1.1157 - acc: 0.7463 - val_loss: 1.2201 - val_acc: 0.7137\n",
            "Epoch 10/20\n",
            "16777/16777 [==============================] - 8s 471us/sample - loss: 1.0888 - acc: 0.7483 - val_loss: 1.2138 - val_acc: 0.6930\n",
            "Epoch 11/20\n",
            "16777/16777 [==============================] - 8s 473us/sample - loss: 1.0668 - acc: 0.7529 - val_loss: 1.1996 - val_acc: 0.7249\n",
            "Epoch 12/20\n",
            "16777/16777 [==============================] - 8s 476us/sample - loss: 1.0460 - acc: 0.7548 - val_loss: 1.1921 - val_acc: 0.7147\n",
            "Epoch 13/20\n",
            "16777/16777 [==============================] - 8s 481us/sample - loss: 1.0258 - acc: 0.7598 - val_loss: 1.1900 - val_acc: 0.7068\n",
            "Epoch 14/20\n",
            "16777/16777 [==============================] - 8s 472us/sample - loss: 1.0050 - acc: 0.7643 - val_loss: 1.1834 - val_acc: 0.7218\n",
            "Epoch 15/20\n",
            "16777/16777 [==============================] - 8s 476us/sample - loss: 0.9864 - acc: 0.7678 - val_loss: 1.1866 - val_acc: 0.7087\n",
            "Epoch 16/20\n",
            "16777/16777 [==============================] - 8s 482us/sample - loss: 0.9685 - acc: 0.7700 - val_loss: 1.1693 - val_acc: 0.7128\n",
            "Epoch 17/20\n",
            "16777/16777 [==============================] - 8s 477us/sample - loss: 0.9511 - acc: 0.7719 - val_loss: 1.1705 - val_acc: 0.7154\n",
            "Epoch 18/20\n",
            "16777/16777 [==============================] - 8s 471us/sample - loss: 0.9330 - acc: 0.7770 - val_loss: 1.1654 - val_acc: 0.7151\n",
            "Epoch 19/20\n",
            "16777/16777 [==============================] - 8s 471us/sample - loss: 0.9176 - acc: 0.7791 - val_loss: 1.1844 - val_acc: 0.7135\n",
            "Epoch 20/20\n",
            "16777/16777 [==============================] - 8s 477us/sample - loss: 0.9038 - acc: 0.7817 - val_loss: 1.1723 - val_acc: 0.6813\n"
          ],
          "name": "stdout"
        }
      ]
    },
    {
      "cell_type": "code",
      "metadata": {
        "id": "SsDk1M0a1yhN",
        "colab_type": "code",
        "colab": {
          "base_uri": "https://localhost:8080/",
          "height": 34
        },
        "outputId": "63fc7ecb-52f8-45ef-b8f5-f201bd412629"
      },
      "source": [
        "model_best=model.load_weights(checkpoint_filepath)\n",
        "print(model_best)"
      ],
      "execution_count": 86,
      "outputs": [
        {
          "output_type": "stream",
          "text": [
            "<tensorflow.python.training.tracking.util.CheckpointLoadStatus object at 0x7f5279e39198>\n"
          ],
          "name": "stdout"
        }
      ]
    },
    {
      "cell_type": "code",
      "metadata": {
        "id": "mBtvcuWG2Nuv",
        "colab_type": "code",
        "colab": {
          "base_uri": "https://localhost:8080/",
          "height": 235
        },
        "outputId": "a07b7702-3acc-45a0-e4db-2a2516b3a0e9"
      },
      "source": [
        "Y_pred=model.predict(X_test_padded,32,callbacks=[model_checkpoint_callback])\n",
        "Y_pred"
      ],
      "execution_count": 89,
      "outputs": [
        {
          "output_type": "execute_result",
          "data": {
            "text/plain": [
              "array([[0.01128876, 0.00176534, 0.03330129, 0.01159516, 0.0011315 ,\n",
              "        0.00073603],\n",
              "       [0.00724164, 0.14112905, 0.00521296, 0.00102949, 0.00239739,\n",
              "        0.0007835 ],\n",
              "       [0.02523148, 0.00549644, 0.00528008, 0.00956085, 0.00164112,\n",
              "        0.00077727],\n",
              "       ...,\n",
              "       [0.06055114, 0.00771365, 0.00109941, 0.01573145, 0.00236487,\n",
              "        0.00084296],\n",
              "       [0.05140248, 0.00047678, 0.00680447, 0.0533897 , 0.00135526,\n",
              "        0.00078103],\n",
              "       [0.01105807, 0.0135878 , 0.01138109, 0.00365088, 0.00153035,\n",
              "        0.0007507 ]], dtype=float32)"
            ]
          },
          "metadata": {
            "tags": []
          },
          "execution_count": 89
        }
      ]
    },
    {
      "cell_type": "code",
      "metadata": {
        "id": "u8SHViO14ns7",
        "colab_type": "code",
        "colab": {
          "base_uri": "https://localhost:8080/",
          "height": 34
        },
        "outputId": "d2a4217e-4e63-459b-b08b-3176bb194770"
      },
      "source": [
        "Y_pred.shape"
      ],
      "execution_count": 90,
      "outputs": [
        {
          "output_type": "execute_result",
          "data": {
            "text/plain": [
              "(8989, 6)"
            ]
          },
          "metadata": {
            "tags": []
          },
          "execution_count": 90
        }
      ]
    },
    {
      "cell_type": "code",
      "metadata": {
        "id": "JmHR94xs9GCZ",
        "colab_type": "code",
        "colab": {
          "base_uri": "https://localhost:8080/",
          "height": 402
        },
        "outputId": "11c9b7df-9da7-45c7-ac70-d55119b5ce2f"
      },
      "source": [
        "Y=pd.DataFrame(Y_pred,columns=list(df.columns[2:-1]))\n",
        "Y"
      ],
      "execution_count": 95,
      "outputs": [
        {
          "output_type": "execute_result",
          "data": {
            "text/html": [
              "<div>\n",
              "<style scoped>\n",
              "    .dataframe tbody tr th:only-of-type {\n",
              "        vertical-align: middle;\n",
              "    }\n",
              "\n",
              "    .dataframe tbody tr th {\n",
              "        vertical-align: top;\n",
              "    }\n",
              "\n",
              "    .dataframe thead th {\n",
              "        text-align: right;\n",
              "    }\n",
              "</style>\n",
              "<table border=\"1\" class=\"dataframe\">\n",
              "  <thead>\n",
              "    <tr style=\"text-align: right;\">\n",
              "      <th></th>\n",
              "      <th>Computer Science</th>\n",
              "      <th>Physics</th>\n",
              "      <th>Mathematics</th>\n",
              "      <th>Statistics</th>\n",
              "      <th>Quantitative Biology</th>\n",
              "      <th>Quantitative Finance</th>\n",
              "    </tr>\n",
              "  </thead>\n",
              "  <tbody>\n",
              "    <tr>\n",
              "      <th>0</th>\n",
              "      <td>0.011289</td>\n",
              "      <td>0.001765</td>\n",
              "      <td>0.033301</td>\n",
              "      <td>0.011595</td>\n",
              "      <td>0.001132</td>\n",
              "      <td>0.000736</td>\n",
              "    </tr>\n",
              "    <tr>\n",
              "      <th>1</th>\n",
              "      <td>0.007242</td>\n",
              "      <td>0.141129</td>\n",
              "      <td>0.005213</td>\n",
              "      <td>0.001029</td>\n",
              "      <td>0.002397</td>\n",
              "      <td>0.000784</td>\n",
              "    </tr>\n",
              "    <tr>\n",
              "      <th>2</th>\n",
              "      <td>0.025231</td>\n",
              "      <td>0.005496</td>\n",
              "      <td>0.005280</td>\n",
              "      <td>0.009561</td>\n",
              "      <td>0.001641</td>\n",
              "      <td>0.000777</td>\n",
              "    </tr>\n",
              "    <tr>\n",
              "      <th>3</th>\n",
              "      <td>0.005938</td>\n",
              "      <td>0.190640</td>\n",
              "      <td>0.005712</td>\n",
              "      <td>0.000698</td>\n",
              "      <td>0.002336</td>\n",
              "      <td>0.000765</td>\n",
              "    </tr>\n",
              "    <tr>\n",
              "      <th>4</th>\n",
              "      <td>0.022779</td>\n",
              "      <td>0.002347</td>\n",
              "      <td>0.010676</td>\n",
              "      <td>0.012240</td>\n",
              "      <td>0.001399</td>\n",
              "      <td>0.000797</td>\n",
              "    </tr>\n",
              "    <tr>\n",
              "      <th>...</th>\n",
              "      <td>...</td>\n",
              "      <td>...</td>\n",
              "      <td>...</td>\n",
              "      <td>...</td>\n",
              "      <td>...</td>\n",
              "      <td>...</td>\n",
              "    </tr>\n",
              "    <tr>\n",
              "      <th>8984</th>\n",
              "      <td>0.019712</td>\n",
              "      <td>0.005307</td>\n",
              "      <td>0.008196</td>\n",
              "      <td>0.008047</td>\n",
              "      <td>0.001546</td>\n",
              "      <td>0.000789</td>\n",
              "    </tr>\n",
              "    <tr>\n",
              "      <th>8985</th>\n",
              "      <td>0.015667</td>\n",
              "      <td>0.004439</td>\n",
              "      <td>0.012445</td>\n",
              "      <td>0.007919</td>\n",
              "      <td>0.001377</td>\n",
              "      <td>0.000758</td>\n",
              "    </tr>\n",
              "    <tr>\n",
              "      <th>8986</th>\n",
              "      <td>0.060551</td>\n",
              "      <td>0.007714</td>\n",
              "      <td>0.001099</td>\n",
              "      <td>0.015731</td>\n",
              "      <td>0.002365</td>\n",
              "      <td>0.000843</td>\n",
              "    </tr>\n",
              "    <tr>\n",
              "      <th>8987</th>\n",
              "      <td>0.051402</td>\n",
              "      <td>0.000477</td>\n",
              "      <td>0.006804</td>\n",
              "      <td>0.053390</td>\n",
              "      <td>0.001355</td>\n",
              "      <td>0.000781</td>\n",
              "    </tr>\n",
              "    <tr>\n",
              "      <th>8988</th>\n",
              "      <td>0.011058</td>\n",
              "      <td>0.013588</td>\n",
              "      <td>0.011381</td>\n",
              "      <td>0.003651</td>\n",
              "      <td>0.001530</td>\n",
              "      <td>0.000751</td>\n",
              "    </tr>\n",
              "  </tbody>\n",
              "</table>\n",
              "<p>8989 rows × 6 columns</p>\n",
              "</div>"
            ],
            "text/plain": [
              "      Computer Science   Physics  ...  Quantitative Biology  Quantitative Finance\n",
              "0             0.011289  0.001765  ...              0.001132              0.000736\n",
              "1             0.007242  0.141129  ...              0.002397              0.000784\n",
              "2             0.025231  0.005496  ...              0.001641              0.000777\n",
              "3             0.005938  0.190640  ...              0.002336              0.000765\n",
              "4             0.022779  0.002347  ...              0.001399              0.000797\n",
              "...                ...       ...  ...                   ...                   ...\n",
              "8984          0.019712  0.005307  ...              0.001546              0.000789\n",
              "8985          0.015667  0.004439  ...              0.001377              0.000758\n",
              "8986          0.060551  0.007714  ...              0.002365              0.000843\n",
              "8987          0.051402  0.000477  ...              0.001355              0.000781\n",
              "8988          0.011058  0.013588  ...              0.001530              0.000751\n",
              "\n",
              "[8989 rows x 6 columns]"
            ]
          },
          "metadata": {
            "tags": []
          },
          "execution_count": 95
        }
      ]
    },
    {
      "cell_type": "code",
      "metadata": {
        "id": "yjbqTSOw9Z41",
        "colab_type": "code",
        "colab": {
          "base_uri": "https://localhost:8080/",
          "height": 616
        },
        "outputId": "274a682e-883e-452d-faf3-e5d26adf1967"
      },
      "source": [
        "submission=pd.concat([data_test_original,Y],axis=1)\n",
        "submission.set_index('ID',inplace=True)\n",
        "submission"
      ],
      "execution_count": 101,
      "outputs": [
        {
          "output_type": "execute_result",
          "data": {
            "text/html": [
              "<div>\n",
              "<style scoped>\n",
              "    .dataframe tbody tr th:only-of-type {\n",
              "        vertical-align: middle;\n",
              "    }\n",
              "\n",
              "    .dataframe tbody tr th {\n",
              "        vertical-align: top;\n",
              "    }\n",
              "\n",
              "    .dataframe thead th {\n",
              "        text-align: right;\n",
              "    }\n",
              "</style>\n",
              "<table border=\"1\" class=\"dataframe\">\n",
              "  <thead>\n",
              "    <tr style=\"text-align: right;\">\n",
              "      <th></th>\n",
              "      <th>TITLE</th>\n",
              "      <th>ABSTRACT</th>\n",
              "      <th>Computer Science</th>\n",
              "      <th>Physics</th>\n",
              "      <th>Mathematics</th>\n",
              "      <th>Statistics</th>\n",
              "      <th>Quantitative Biology</th>\n",
              "      <th>Quantitative Finance</th>\n",
              "    </tr>\n",
              "    <tr>\n",
              "      <th>ID</th>\n",
              "      <th></th>\n",
              "      <th></th>\n",
              "      <th></th>\n",
              "      <th></th>\n",
              "      <th></th>\n",
              "      <th></th>\n",
              "      <th></th>\n",
              "      <th></th>\n",
              "    </tr>\n",
              "  </thead>\n",
              "  <tbody>\n",
              "    <tr>\n",
              "      <th>20973</th>\n",
              "      <td>Closed-form Marginal Likelihood in Gamma-Poiss...</td>\n",
              "      <td>We present novel understandings of the Gamma...</td>\n",
              "      <td>0.011289</td>\n",
              "      <td>0.001765</td>\n",
              "      <td>0.033301</td>\n",
              "      <td>0.011595</td>\n",
              "      <td>0.001132</td>\n",
              "      <td>0.000736</td>\n",
              "    </tr>\n",
              "    <tr>\n",
              "      <th>20974</th>\n",
              "      <td>Laboratory mid-IR spectra of equilibrated and ...</td>\n",
              "      <td>Meteorites contain minerals from Solar Syste...</td>\n",
              "      <td>0.007242</td>\n",
              "      <td>0.141129</td>\n",
              "      <td>0.005213</td>\n",
              "      <td>0.001029</td>\n",
              "      <td>0.002397</td>\n",
              "      <td>0.000784</td>\n",
              "    </tr>\n",
              "    <tr>\n",
              "      <th>20975</th>\n",
              "      <td>Case For Static AMSDU Aggregation in WLANs</td>\n",
              "      <td>Frame aggregation is a mechanism by which mu...</td>\n",
              "      <td>0.025231</td>\n",
              "      <td>0.005496</td>\n",
              "      <td>0.005280</td>\n",
              "      <td>0.009561</td>\n",
              "      <td>0.001641</td>\n",
              "      <td>0.000777</td>\n",
              "    </tr>\n",
              "    <tr>\n",
              "      <th>20976</th>\n",
              "      <td>The $Gaia$-ESO Survey: the inner disk intermed...</td>\n",
              "      <td>Milky Way open clusters are very diverse in ...</td>\n",
              "      <td>0.005938</td>\n",
              "      <td>0.190640</td>\n",
              "      <td>0.005712</td>\n",
              "      <td>0.000698</td>\n",
              "      <td>0.002336</td>\n",
              "      <td>0.000765</td>\n",
              "    </tr>\n",
              "    <tr>\n",
              "      <th>20977</th>\n",
              "      <td>Witness-Functions versus Interpretation-Functi...</td>\n",
              "      <td>Proving that a cryptographic protocol is cor...</td>\n",
              "      <td>0.022779</td>\n",
              "      <td>0.002347</td>\n",
              "      <td>0.010676</td>\n",
              "      <td>0.012240</td>\n",
              "      <td>0.001399</td>\n",
              "      <td>0.000797</td>\n",
              "    </tr>\n",
              "    <tr>\n",
              "      <th>...</th>\n",
              "      <td>...</td>\n",
              "      <td>...</td>\n",
              "      <td>...</td>\n",
              "      <td>...</td>\n",
              "      <td>...</td>\n",
              "      <td>...</td>\n",
              "      <td>...</td>\n",
              "      <td>...</td>\n",
              "    </tr>\n",
              "    <tr>\n",
              "      <th>29957</th>\n",
              "      <td>Supporting mixed-datatype matrix multiplicatio...</td>\n",
              "      <td>We approach the problem of implementing mixe...</td>\n",
              "      <td>0.019712</td>\n",
              "      <td>0.005307</td>\n",
              "      <td>0.008196</td>\n",
              "      <td>0.008047</td>\n",
              "      <td>0.001546</td>\n",
              "      <td>0.000789</td>\n",
              "    </tr>\n",
              "    <tr>\n",
              "      <th>29958</th>\n",
              "      <td>An axiomatic basis for Blackwell optimality</td>\n",
              "      <td>In the theory of Markov decision processes (...</td>\n",
              "      <td>0.015667</td>\n",
              "      <td>0.004439</td>\n",
              "      <td>0.012445</td>\n",
              "      <td>0.007919</td>\n",
              "      <td>0.001377</td>\n",
              "      <td>0.000758</td>\n",
              "    </tr>\n",
              "    <tr>\n",
              "      <th>29959</th>\n",
              "      <td>GeneVis - An interactive visualization tool fo...</td>\n",
              "      <td>GeneVis is a web-based tool to visualize com...</td>\n",
              "      <td>0.060551</td>\n",
              "      <td>0.007714</td>\n",
              "      <td>0.001099</td>\n",
              "      <td>0.015731</td>\n",
              "      <td>0.002365</td>\n",
              "      <td>0.000843</td>\n",
              "    </tr>\n",
              "    <tr>\n",
              "      <th>29960</th>\n",
              "      <td>Quantifying the causal effect of speed cameras...</td>\n",
              "      <td>This paper quantifies the effect of speed ca...</td>\n",
              "      <td>0.051402</td>\n",
              "      <td>0.000477</td>\n",
              "      <td>0.006804</td>\n",
              "      <td>0.053390</td>\n",
              "      <td>0.001355</td>\n",
              "      <td>0.000781</td>\n",
              "    </tr>\n",
              "    <tr>\n",
              "      <th>29961</th>\n",
              "      <td>Cube-magic labelings of grids</td>\n",
              "      <td>We show that the vertices and edges of a $d$...</td>\n",
              "      <td>0.011058</td>\n",
              "      <td>0.013588</td>\n",
              "      <td>0.011381</td>\n",
              "      <td>0.003651</td>\n",
              "      <td>0.001530</td>\n",
              "      <td>0.000751</td>\n",
              "    </tr>\n",
              "  </tbody>\n",
              "</table>\n",
              "<p>8989 rows × 8 columns</p>\n",
              "</div>"
            ],
            "text/plain": [
              "                                                   TITLE  ... Quantitative Finance\n",
              "ID                                                        ...                     \n",
              "20973  Closed-form Marginal Likelihood in Gamma-Poiss...  ...             0.000736\n",
              "20974  Laboratory mid-IR spectra of equilibrated and ...  ...             0.000784\n",
              "20975         Case For Static AMSDU Aggregation in WLANs  ...             0.000777\n",
              "20976  The $Gaia$-ESO Survey: the inner disk intermed...  ...             0.000765\n",
              "20977  Witness-Functions versus Interpretation-Functi...  ...             0.000797\n",
              "...                                                  ...  ...                  ...\n",
              "29957  Supporting mixed-datatype matrix multiplicatio...  ...             0.000789\n",
              "29958        An axiomatic basis for Blackwell optimality  ...             0.000758\n",
              "29959  GeneVis - An interactive visualization tool fo...  ...             0.000843\n",
              "29960  Quantifying the causal effect of speed cameras...  ...             0.000781\n",
              "29961                      Cube-magic labelings of grids  ...             0.000751\n",
              "\n",
              "[8989 rows x 8 columns]"
            ]
          },
          "metadata": {
            "tags": []
          },
          "execution_count": 101
        }
      ]
    },
    {
      "cell_type": "code",
      "metadata": {
        "id": "hx5XIUEH-RMZ",
        "colab_type": "code",
        "colab": {}
      },
      "source": [
        "submission.to_csv(\"submission.csv\")"
      ],
      "execution_count": 102,
      "outputs": []
    },
    {
      "cell_type": "code",
      "metadata": {
        "id": "dgA1ncgH-hEv",
        "colab_type": "code",
        "colab": {}
      },
      "source": [
        ""
      ],
      "execution_count": null,
      "outputs": []
    }
  ]
}