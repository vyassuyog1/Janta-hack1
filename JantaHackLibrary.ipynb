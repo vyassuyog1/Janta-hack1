{
  "nbformat": 4,
  "nbformat_minor": 0,
  "metadata": {
    "colab": {
      "name": "JantaHackLibraryipynb",
      "provenance": [],
      "authorship_tag": "ABX9TyNidcFZe67adKlu5XpGdz9q",
      "include_colab_link": true
    },
    "kernelspec": {
      "name": "python3",
      "display_name": "Python 3"
    }
  },
  "cells": [
    {
      "cell_type": "markdown",
      "metadata": {
        "id": "view-in-github",
        "colab_type": "text"
      },
      "source": [
        "<a href=\"https://colab.research.google.com/github/vyassuyog1/Janta-hack1/blob/master/JantaHackLibrary.ipynb\" target=\"_parent\"><img src=\"https://colab.research.google.com/assets/colab-badge.svg\" alt=\"Open In Colab\"/></a>"
      ]
    },
    {
      "cell_type": "markdown",
      "metadata": {
        "id": "Welb59LPTlDR",
        "colab_type": "text"
      },
      "source": [
        "#Importing Data"
      ]
    },
    {
      "cell_type": "code",
      "metadata": {
        "id": "TII1OAyzTnoN",
        "colab_type": "code",
        "colab": {}
      },
      "source": [
        "import pandas as pd"
      ],
      "execution_count": 1,
      "outputs": []
    },
    {
      "cell_type": "code",
      "metadata": {
        "id": "fakAT84UTynK",
        "colab_type": "code",
        "colab": {
          "base_uri": "https://localhost:8080/",
          "height": 84
        },
        "outputId": "0982d73c-81cf-45a1-f2f7-784e80c4b57a"
      },
      "source": [
        "!unzip '/content/test_8iecVfC.zip'\n",
        "!unzip '/content/train_tGmol3O.zip'"
      ],
      "execution_count": 2,
      "outputs": [
        {
          "output_type": "stream",
          "text": [
            "Archive:  /content/test_8iecVfC.zip\n",
            "  inflating: test.csv                \n",
            "Archive:  /content/train_tGmol3O.zip\n",
            "  inflating: train.csv               \n"
          ],
          "name": "stdout"
        }
      ]
    },
    {
      "cell_type": "code",
      "metadata": {
        "id": "spv52_8vTq_V",
        "colab_type": "code",
        "colab": {
          "base_uri": "https://localhost:8080/",
          "height": 633
        },
        "outputId": "ba83c8fc-83b8-4a48-ceec-59e8badca540"
      },
      "source": [
        "data_train_original=pd.read_csv('/content/train.csv')\n",
        "data_test_original=pd.read_csv('/content/test.csv')\n",
        "data_train=data_train_original.copy()\n",
        "data_train.set_index(['ID'],inplace=True)\n",
        "data_test=data_test_original.copy()\n",
        "data_test.set_index(['ID'],inplace=True)\n",
        "print(data_train.shape,data_test.shape)\n",
        "data_train"
      ],
      "execution_count": 24,
      "outputs": [
        {
          "output_type": "stream",
          "text": [
            "(20972, 8) (8989, 2)\n"
          ],
          "name": "stdout"
        },
        {
          "output_type": "execute_result",
          "data": {
            "text/html": [
              "<div>\n",
              "<style scoped>\n",
              "    .dataframe tbody tr th:only-of-type {\n",
              "        vertical-align: middle;\n",
              "    }\n",
              "\n",
              "    .dataframe tbody tr th {\n",
              "        vertical-align: top;\n",
              "    }\n",
              "\n",
              "    .dataframe thead th {\n",
              "        text-align: right;\n",
              "    }\n",
              "</style>\n",
              "<table border=\"1\" class=\"dataframe\">\n",
              "  <thead>\n",
              "    <tr style=\"text-align: right;\">\n",
              "      <th></th>\n",
              "      <th>TITLE</th>\n",
              "      <th>ABSTRACT</th>\n",
              "      <th>Computer Science</th>\n",
              "      <th>Physics</th>\n",
              "      <th>Mathematics</th>\n",
              "      <th>Statistics</th>\n",
              "      <th>Quantitative Biology</th>\n",
              "      <th>Quantitative Finance</th>\n",
              "    </tr>\n",
              "    <tr>\n",
              "      <th>ID</th>\n",
              "      <th></th>\n",
              "      <th></th>\n",
              "      <th></th>\n",
              "      <th></th>\n",
              "      <th></th>\n",
              "      <th></th>\n",
              "      <th></th>\n",
              "      <th></th>\n",
              "    </tr>\n",
              "  </thead>\n",
              "  <tbody>\n",
              "    <tr>\n",
              "      <th>1</th>\n",
              "      <td>Reconstructing Subject-Specific Effect Maps</td>\n",
              "      <td>Predictive models allow subject-specific inf...</td>\n",
              "      <td>1</td>\n",
              "      <td>0</td>\n",
              "      <td>0</td>\n",
              "      <td>0</td>\n",
              "      <td>0</td>\n",
              "      <td>0</td>\n",
              "    </tr>\n",
              "    <tr>\n",
              "      <th>2</th>\n",
              "      <td>Rotation Invariance Neural Network</td>\n",
              "      <td>Rotation invariance and translation invarian...</td>\n",
              "      <td>1</td>\n",
              "      <td>0</td>\n",
              "      <td>0</td>\n",
              "      <td>0</td>\n",
              "      <td>0</td>\n",
              "      <td>0</td>\n",
              "    </tr>\n",
              "    <tr>\n",
              "      <th>3</th>\n",
              "      <td>Spherical polyharmonics and Poisson kernels fo...</td>\n",
              "      <td>We introduce and develop the notion of spher...</td>\n",
              "      <td>0</td>\n",
              "      <td>0</td>\n",
              "      <td>1</td>\n",
              "      <td>0</td>\n",
              "      <td>0</td>\n",
              "      <td>0</td>\n",
              "    </tr>\n",
              "    <tr>\n",
              "      <th>4</th>\n",
              "      <td>A finite element approximation for the stochas...</td>\n",
              "      <td>The stochastic Landau--Lifshitz--Gilbert (LL...</td>\n",
              "      <td>0</td>\n",
              "      <td>0</td>\n",
              "      <td>1</td>\n",
              "      <td>0</td>\n",
              "      <td>0</td>\n",
              "      <td>0</td>\n",
              "    </tr>\n",
              "    <tr>\n",
              "      <th>5</th>\n",
              "      <td>Comparative study of Discrete Wavelet Transfor...</td>\n",
              "      <td>Fourier-transform infra-red (FTIR) spectra o...</td>\n",
              "      <td>1</td>\n",
              "      <td>0</td>\n",
              "      <td>0</td>\n",
              "      <td>1</td>\n",
              "      <td>0</td>\n",
              "      <td>0</td>\n",
              "    </tr>\n",
              "    <tr>\n",
              "      <th>...</th>\n",
              "      <td>...</td>\n",
              "      <td>...</td>\n",
              "      <td>...</td>\n",
              "      <td>...</td>\n",
              "      <td>...</td>\n",
              "      <td>...</td>\n",
              "      <td>...</td>\n",
              "      <td>...</td>\n",
              "    </tr>\n",
              "    <tr>\n",
              "      <th>20968</th>\n",
              "      <td>Contemporary machine learning: a guide for pra...</td>\n",
              "      <td>Machine learning is finding increasingly bro...</td>\n",
              "      <td>1</td>\n",
              "      <td>1</td>\n",
              "      <td>0</td>\n",
              "      <td>0</td>\n",
              "      <td>0</td>\n",
              "      <td>0</td>\n",
              "    </tr>\n",
              "    <tr>\n",
              "      <th>20969</th>\n",
              "      <td>Uniform diamond coatings on WC-Co hard alloy c...</td>\n",
              "      <td>Polycrystalline diamond coatings have been g...</td>\n",
              "      <td>0</td>\n",
              "      <td>1</td>\n",
              "      <td>0</td>\n",
              "      <td>0</td>\n",
              "      <td>0</td>\n",
              "      <td>0</td>\n",
              "    </tr>\n",
              "    <tr>\n",
              "      <th>20970</th>\n",
              "      <td>Analysing Soccer Games with Clustering and Con...</td>\n",
              "      <td>We present a new approach for identifying si...</td>\n",
              "      <td>1</td>\n",
              "      <td>0</td>\n",
              "      <td>0</td>\n",
              "      <td>0</td>\n",
              "      <td>0</td>\n",
              "      <td>0</td>\n",
              "    </tr>\n",
              "    <tr>\n",
              "      <th>20971</th>\n",
              "      <td>On the Efficient Simulation of the Left-Tail o...</td>\n",
              "      <td>The sum of Log-normal variates is encountere...</td>\n",
              "      <td>0</td>\n",
              "      <td>0</td>\n",
              "      <td>1</td>\n",
              "      <td>1</td>\n",
              "      <td>0</td>\n",
              "      <td>0</td>\n",
              "    </tr>\n",
              "    <tr>\n",
              "      <th>20972</th>\n",
              "      <td>Why optional stopping is a problem for Bayesians</td>\n",
              "      <td>Recently, optional stopping has been a subje...</td>\n",
              "      <td>0</td>\n",
              "      <td>0</td>\n",
              "      <td>1</td>\n",
              "      <td>1</td>\n",
              "      <td>0</td>\n",
              "      <td>0</td>\n",
              "    </tr>\n",
              "  </tbody>\n",
              "</table>\n",
              "<p>20972 rows × 8 columns</p>\n",
              "</div>"
            ],
            "text/plain": [
              "                                                   TITLE  ... Quantitative Finance\n",
              "ID                                                        ...                     \n",
              "1            Reconstructing Subject-Specific Effect Maps  ...                    0\n",
              "2                     Rotation Invariance Neural Network  ...                    0\n",
              "3      Spherical polyharmonics and Poisson kernels fo...  ...                    0\n",
              "4      A finite element approximation for the stochas...  ...                    0\n",
              "5      Comparative study of Discrete Wavelet Transfor...  ...                    0\n",
              "...                                                  ...  ...                  ...\n",
              "20968  Contemporary machine learning: a guide for pra...  ...                    0\n",
              "20969  Uniform diamond coatings on WC-Co hard alloy c...  ...                    0\n",
              "20970  Analysing Soccer Games with Clustering and Con...  ...                    0\n",
              "20971  On the Efficient Simulation of the Left-Tail o...  ...                    0\n",
              "20972   Why optional stopping is a problem for Bayesians  ...                    0\n",
              "\n",
              "[20972 rows x 8 columns]"
            ]
          },
          "metadata": {
            "tags": []
          },
          "execution_count": 24
        }
      ]
    },
    {
      "cell_type": "code",
      "metadata": {
        "id": "YYcmh_NbUc27",
        "colab_type": "code",
        "colab": {
          "base_uri": "https://localhost:8080/",
          "height": 431
        },
        "outputId": "441eda6e-ce7d-479e-9d80-7a4ab7644715"
      },
      "source": [
        "data_test"
      ],
      "execution_count": 25,
      "outputs": [
        {
          "output_type": "execute_result",
          "data": {
            "text/html": [
              "<div>\n",
              "<style scoped>\n",
              "    .dataframe tbody tr th:only-of-type {\n",
              "        vertical-align: middle;\n",
              "    }\n",
              "\n",
              "    .dataframe tbody tr th {\n",
              "        vertical-align: top;\n",
              "    }\n",
              "\n",
              "    .dataframe thead th {\n",
              "        text-align: right;\n",
              "    }\n",
              "</style>\n",
              "<table border=\"1\" class=\"dataframe\">\n",
              "  <thead>\n",
              "    <tr style=\"text-align: right;\">\n",
              "      <th></th>\n",
              "      <th>TITLE</th>\n",
              "      <th>ABSTRACT</th>\n",
              "    </tr>\n",
              "    <tr>\n",
              "      <th>ID</th>\n",
              "      <th></th>\n",
              "      <th></th>\n",
              "    </tr>\n",
              "  </thead>\n",
              "  <tbody>\n",
              "    <tr>\n",
              "      <th>20973</th>\n",
              "      <td>Closed-form Marginal Likelihood in Gamma-Poiss...</td>\n",
              "      <td>We present novel understandings of the Gamma...</td>\n",
              "    </tr>\n",
              "    <tr>\n",
              "      <th>20974</th>\n",
              "      <td>Laboratory mid-IR spectra of equilibrated and ...</td>\n",
              "      <td>Meteorites contain minerals from Solar Syste...</td>\n",
              "    </tr>\n",
              "    <tr>\n",
              "      <th>20975</th>\n",
              "      <td>Case For Static AMSDU Aggregation in WLANs</td>\n",
              "      <td>Frame aggregation is a mechanism by which mu...</td>\n",
              "    </tr>\n",
              "    <tr>\n",
              "      <th>20976</th>\n",
              "      <td>The $Gaia$-ESO Survey: the inner disk intermed...</td>\n",
              "      <td>Milky Way open clusters are very diverse in ...</td>\n",
              "    </tr>\n",
              "    <tr>\n",
              "      <th>20977</th>\n",
              "      <td>Witness-Functions versus Interpretation-Functi...</td>\n",
              "      <td>Proving that a cryptographic protocol is cor...</td>\n",
              "    </tr>\n",
              "    <tr>\n",
              "      <th>...</th>\n",
              "      <td>...</td>\n",
              "      <td>...</td>\n",
              "    </tr>\n",
              "    <tr>\n",
              "      <th>29957</th>\n",
              "      <td>Supporting mixed-datatype matrix multiplicatio...</td>\n",
              "      <td>We approach the problem of implementing mixe...</td>\n",
              "    </tr>\n",
              "    <tr>\n",
              "      <th>29958</th>\n",
              "      <td>An axiomatic basis for Blackwell optimality</td>\n",
              "      <td>In the theory of Markov decision processes (...</td>\n",
              "    </tr>\n",
              "    <tr>\n",
              "      <th>29959</th>\n",
              "      <td>GeneVis - An interactive visualization tool fo...</td>\n",
              "      <td>GeneVis is a web-based tool to visualize com...</td>\n",
              "    </tr>\n",
              "    <tr>\n",
              "      <th>29960</th>\n",
              "      <td>Quantifying the causal effect of speed cameras...</td>\n",
              "      <td>This paper quantifies the effect of speed ca...</td>\n",
              "    </tr>\n",
              "    <tr>\n",
              "      <th>29961</th>\n",
              "      <td>Cube-magic labelings of grids</td>\n",
              "      <td>We show that the vertices and edges of a $d$...</td>\n",
              "    </tr>\n",
              "  </tbody>\n",
              "</table>\n",
              "<p>8989 rows × 2 columns</p>\n",
              "</div>"
            ],
            "text/plain": [
              "                                                   TITLE                                           ABSTRACT\n",
              "ID                                                                                                         \n",
              "20973  Closed-form Marginal Likelihood in Gamma-Poiss...    We present novel understandings of the Gamma...\n",
              "20974  Laboratory mid-IR spectra of equilibrated and ...    Meteorites contain minerals from Solar Syste...\n",
              "20975         Case For Static AMSDU Aggregation in WLANs    Frame aggregation is a mechanism by which mu...\n",
              "20976  The $Gaia$-ESO Survey: the inner disk intermed...    Milky Way open clusters are very diverse in ...\n",
              "20977  Witness-Functions versus Interpretation-Functi...    Proving that a cryptographic protocol is cor...\n",
              "...                                                  ...                                                ...\n",
              "29957  Supporting mixed-datatype matrix multiplicatio...    We approach the problem of implementing mixe...\n",
              "29958        An axiomatic basis for Blackwell optimality    In the theory of Markov decision processes (...\n",
              "29959  GeneVis - An interactive visualization tool fo...    GeneVis is a web-based tool to visualize com...\n",
              "29960  Quantifying the causal effect of speed cameras...    This paper quantifies the effect of speed ca...\n",
              "29961                      Cube-magic labelings of grids    We show that the vertices and edges of a $d$...\n",
              "\n",
              "[8989 rows x 2 columns]"
            ]
          },
          "metadata": {
            "tags": []
          },
          "execution_count": 25
        }
      ]
    },
    {
      "cell_type": "code",
      "metadata": {
        "id": "q_yVtN2rVT8-",
        "colab_type": "code",
        "colab": {
          "base_uri": "https://localhost:8080/",
          "height": 616
        },
        "outputId": "13e0bd41-475b-438d-d01b-2566351ca729"
      },
      "source": [
        "df=pd.concat([data_train,data_test],axis=0)\n",
        "df"
      ],
      "execution_count": 26,
      "outputs": [
        {
          "output_type": "execute_result",
          "data": {
            "text/html": [
              "<div>\n",
              "<style scoped>\n",
              "    .dataframe tbody tr th:only-of-type {\n",
              "        vertical-align: middle;\n",
              "    }\n",
              "\n",
              "    .dataframe tbody tr th {\n",
              "        vertical-align: top;\n",
              "    }\n",
              "\n",
              "    .dataframe thead th {\n",
              "        text-align: right;\n",
              "    }\n",
              "</style>\n",
              "<table border=\"1\" class=\"dataframe\">\n",
              "  <thead>\n",
              "    <tr style=\"text-align: right;\">\n",
              "      <th></th>\n",
              "      <th>TITLE</th>\n",
              "      <th>ABSTRACT</th>\n",
              "      <th>Computer Science</th>\n",
              "      <th>Physics</th>\n",
              "      <th>Mathematics</th>\n",
              "      <th>Statistics</th>\n",
              "      <th>Quantitative Biology</th>\n",
              "      <th>Quantitative Finance</th>\n",
              "    </tr>\n",
              "    <tr>\n",
              "      <th>ID</th>\n",
              "      <th></th>\n",
              "      <th></th>\n",
              "      <th></th>\n",
              "      <th></th>\n",
              "      <th></th>\n",
              "      <th></th>\n",
              "      <th></th>\n",
              "      <th></th>\n",
              "    </tr>\n",
              "  </thead>\n",
              "  <tbody>\n",
              "    <tr>\n",
              "      <th>1</th>\n",
              "      <td>Reconstructing Subject-Specific Effect Maps</td>\n",
              "      <td>Predictive models allow subject-specific inf...</td>\n",
              "      <td>1.0</td>\n",
              "      <td>0.0</td>\n",
              "      <td>0.0</td>\n",
              "      <td>0.0</td>\n",
              "      <td>0.0</td>\n",
              "      <td>0.0</td>\n",
              "    </tr>\n",
              "    <tr>\n",
              "      <th>2</th>\n",
              "      <td>Rotation Invariance Neural Network</td>\n",
              "      <td>Rotation invariance and translation invarian...</td>\n",
              "      <td>1.0</td>\n",
              "      <td>0.0</td>\n",
              "      <td>0.0</td>\n",
              "      <td>0.0</td>\n",
              "      <td>0.0</td>\n",
              "      <td>0.0</td>\n",
              "    </tr>\n",
              "    <tr>\n",
              "      <th>3</th>\n",
              "      <td>Spherical polyharmonics and Poisson kernels fo...</td>\n",
              "      <td>We introduce and develop the notion of spher...</td>\n",
              "      <td>0.0</td>\n",
              "      <td>0.0</td>\n",
              "      <td>1.0</td>\n",
              "      <td>0.0</td>\n",
              "      <td>0.0</td>\n",
              "      <td>0.0</td>\n",
              "    </tr>\n",
              "    <tr>\n",
              "      <th>4</th>\n",
              "      <td>A finite element approximation for the stochas...</td>\n",
              "      <td>The stochastic Landau--Lifshitz--Gilbert (LL...</td>\n",
              "      <td>0.0</td>\n",
              "      <td>0.0</td>\n",
              "      <td>1.0</td>\n",
              "      <td>0.0</td>\n",
              "      <td>0.0</td>\n",
              "      <td>0.0</td>\n",
              "    </tr>\n",
              "    <tr>\n",
              "      <th>5</th>\n",
              "      <td>Comparative study of Discrete Wavelet Transfor...</td>\n",
              "      <td>Fourier-transform infra-red (FTIR) spectra o...</td>\n",
              "      <td>1.0</td>\n",
              "      <td>0.0</td>\n",
              "      <td>0.0</td>\n",
              "      <td>1.0</td>\n",
              "      <td>0.0</td>\n",
              "      <td>0.0</td>\n",
              "    </tr>\n",
              "    <tr>\n",
              "      <th>...</th>\n",
              "      <td>...</td>\n",
              "      <td>...</td>\n",
              "      <td>...</td>\n",
              "      <td>...</td>\n",
              "      <td>...</td>\n",
              "      <td>...</td>\n",
              "      <td>...</td>\n",
              "      <td>...</td>\n",
              "    </tr>\n",
              "    <tr>\n",
              "      <th>29957</th>\n",
              "      <td>Supporting mixed-datatype matrix multiplicatio...</td>\n",
              "      <td>We approach the problem of implementing mixe...</td>\n",
              "      <td>NaN</td>\n",
              "      <td>NaN</td>\n",
              "      <td>NaN</td>\n",
              "      <td>NaN</td>\n",
              "      <td>NaN</td>\n",
              "      <td>NaN</td>\n",
              "    </tr>\n",
              "    <tr>\n",
              "      <th>29958</th>\n",
              "      <td>An axiomatic basis for Blackwell optimality</td>\n",
              "      <td>In the theory of Markov decision processes (...</td>\n",
              "      <td>NaN</td>\n",
              "      <td>NaN</td>\n",
              "      <td>NaN</td>\n",
              "      <td>NaN</td>\n",
              "      <td>NaN</td>\n",
              "      <td>NaN</td>\n",
              "    </tr>\n",
              "    <tr>\n",
              "      <th>29959</th>\n",
              "      <td>GeneVis - An interactive visualization tool fo...</td>\n",
              "      <td>GeneVis is a web-based tool to visualize com...</td>\n",
              "      <td>NaN</td>\n",
              "      <td>NaN</td>\n",
              "      <td>NaN</td>\n",
              "      <td>NaN</td>\n",
              "      <td>NaN</td>\n",
              "      <td>NaN</td>\n",
              "    </tr>\n",
              "    <tr>\n",
              "      <th>29960</th>\n",
              "      <td>Quantifying the causal effect of speed cameras...</td>\n",
              "      <td>This paper quantifies the effect of speed ca...</td>\n",
              "      <td>NaN</td>\n",
              "      <td>NaN</td>\n",
              "      <td>NaN</td>\n",
              "      <td>NaN</td>\n",
              "      <td>NaN</td>\n",
              "      <td>NaN</td>\n",
              "    </tr>\n",
              "    <tr>\n",
              "      <th>29961</th>\n",
              "      <td>Cube-magic labelings of grids</td>\n",
              "      <td>We show that the vertices and edges of a $d$...</td>\n",
              "      <td>NaN</td>\n",
              "      <td>NaN</td>\n",
              "      <td>NaN</td>\n",
              "      <td>NaN</td>\n",
              "      <td>NaN</td>\n",
              "      <td>NaN</td>\n",
              "    </tr>\n",
              "  </tbody>\n",
              "</table>\n",
              "<p>29961 rows × 8 columns</p>\n",
              "</div>"
            ],
            "text/plain": [
              "                                                   TITLE  ... Quantitative Finance\n",
              "ID                                                        ...                     \n",
              "1            Reconstructing Subject-Specific Effect Maps  ...                  0.0\n",
              "2                     Rotation Invariance Neural Network  ...                  0.0\n",
              "3      Spherical polyharmonics and Poisson kernels fo...  ...                  0.0\n",
              "4      A finite element approximation for the stochas...  ...                  0.0\n",
              "5      Comparative study of Discrete Wavelet Transfor...  ...                  0.0\n",
              "...                                                  ...  ...                  ...\n",
              "29957  Supporting mixed-datatype matrix multiplicatio...  ...                  NaN\n",
              "29958        An axiomatic basis for Blackwell optimality  ...                  NaN\n",
              "29959  GeneVis - An interactive visualization tool fo...  ...                  NaN\n",
              "29960  Quantifying the causal effect of speed cameras...  ...                  NaN\n",
              "29961                      Cube-magic labelings of grids  ...                  NaN\n",
              "\n",
              "[29961 rows x 8 columns]"
            ]
          },
          "metadata": {
            "tags": []
          },
          "execution_count": 26
        }
      ]
    },
    {
      "cell_type": "code",
      "metadata": {
        "id": "UEUavcp3VpSq",
        "colab_type": "code",
        "colab": {
          "base_uri": "https://localhost:8080/",
          "height": 34
        },
        "outputId": "dd076ffc-7f66-45bd-f73a-004d852a3a23"
      },
      "source": [
        "df['train']=[1] * len(data_train) + [0]*len(data_test)\n",
        "df['train']"
      ],
      "execution_count": 30,
      "outputs": [
        {
          "output_type": "execute_result",
          "data": {
            "text/plain": [
              "0"
            ]
          },
          "metadata": {
            "tags": []
          },
          "execution_count": 30
        }
      ]
    },
    {
      "cell_type": "code",
      "metadata": {
        "id": "Gt-CvtXWYSQJ",
        "colab_type": "code",
        "colab": {
          "base_uri": "https://localhost:8080/",
          "height": 616
        },
        "outputId": "9e0f5abf-183a-4ebb-c8fe-26fd415cd622"
      },
      "source": [
        "df"
      ],
      "execution_count": 31,
      "outputs": [
        {
          "output_type": "execute_result",
          "data": {
            "text/html": [
              "<div>\n",
              "<style scoped>\n",
              "    .dataframe tbody tr th:only-of-type {\n",
              "        vertical-align: middle;\n",
              "    }\n",
              "\n",
              "    .dataframe tbody tr th {\n",
              "        vertical-align: top;\n",
              "    }\n",
              "\n",
              "    .dataframe thead th {\n",
              "        text-align: right;\n",
              "    }\n",
              "</style>\n",
              "<table border=\"1\" class=\"dataframe\">\n",
              "  <thead>\n",
              "    <tr style=\"text-align: right;\">\n",
              "      <th></th>\n",
              "      <th>TITLE</th>\n",
              "      <th>ABSTRACT</th>\n",
              "      <th>Computer Science</th>\n",
              "      <th>Physics</th>\n",
              "      <th>Mathematics</th>\n",
              "      <th>Statistics</th>\n",
              "      <th>Quantitative Biology</th>\n",
              "      <th>Quantitative Finance</th>\n",
              "      <th>train</th>\n",
              "    </tr>\n",
              "    <tr>\n",
              "      <th>ID</th>\n",
              "      <th></th>\n",
              "      <th></th>\n",
              "      <th></th>\n",
              "      <th></th>\n",
              "      <th></th>\n",
              "      <th></th>\n",
              "      <th></th>\n",
              "      <th></th>\n",
              "      <th></th>\n",
              "    </tr>\n",
              "  </thead>\n",
              "  <tbody>\n",
              "    <tr>\n",
              "      <th>1</th>\n",
              "      <td>Reconstructing Subject-Specific Effect Maps</td>\n",
              "      <td>Predictive models allow subject-specific inf...</td>\n",
              "      <td>1.0</td>\n",
              "      <td>0.0</td>\n",
              "      <td>0.0</td>\n",
              "      <td>0.0</td>\n",
              "      <td>0.0</td>\n",
              "      <td>0.0</td>\n",
              "      <td>1</td>\n",
              "    </tr>\n",
              "    <tr>\n",
              "      <th>2</th>\n",
              "      <td>Rotation Invariance Neural Network</td>\n",
              "      <td>Rotation invariance and translation invarian...</td>\n",
              "      <td>1.0</td>\n",
              "      <td>0.0</td>\n",
              "      <td>0.0</td>\n",
              "      <td>0.0</td>\n",
              "      <td>0.0</td>\n",
              "      <td>0.0</td>\n",
              "      <td>1</td>\n",
              "    </tr>\n",
              "    <tr>\n",
              "      <th>3</th>\n",
              "      <td>Spherical polyharmonics and Poisson kernels fo...</td>\n",
              "      <td>We introduce and develop the notion of spher...</td>\n",
              "      <td>0.0</td>\n",
              "      <td>0.0</td>\n",
              "      <td>1.0</td>\n",
              "      <td>0.0</td>\n",
              "      <td>0.0</td>\n",
              "      <td>0.0</td>\n",
              "      <td>1</td>\n",
              "    </tr>\n",
              "    <tr>\n",
              "      <th>4</th>\n",
              "      <td>A finite element approximation for the stochas...</td>\n",
              "      <td>The stochastic Landau--Lifshitz--Gilbert (LL...</td>\n",
              "      <td>0.0</td>\n",
              "      <td>0.0</td>\n",
              "      <td>1.0</td>\n",
              "      <td>0.0</td>\n",
              "      <td>0.0</td>\n",
              "      <td>0.0</td>\n",
              "      <td>1</td>\n",
              "    </tr>\n",
              "    <tr>\n",
              "      <th>5</th>\n",
              "      <td>Comparative study of Discrete Wavelet Transfor...</td>\n",
              "      <td>Fourier-transform infra-red (FTIR) spectra o...</td>\n",
              "      <td>1.0</td>\n",
              "      <td>0.0</td>\n",
              "      <td>0.0</td>\n",
              "      <td>1.0</td>\n",
              "      <td>0.0</td>\n",
              "      <td>0.0</td>\n",
              "      <td>1</td>\n",
              "    </tr>\n",
              "    <tr>\n",
              "      <th>...</th>\n",
              "      <td>...</td>\n",
              "      <td>...</td>\n",
              "      <td>...</td>\n",
              "      <td>...</td>\n",
              "      <td>...</td>\n",
              "      <td>...</td>\n",
              "      <td>...</td>\n",
              "      <td>...</td>\n",
              "      <td>...</td>\n",
              "    </tr>\n",
              "    <tr>\n",
              "      <th>29957</th>\n",
              "      <td>Supporting mixed-datatype matrix multiplicatio...</td>\n",
              "      <td>We approach the problem of implementing mixe...</td>\n",
              "      <td>NaN</td>\n",
              "      <td>NaN</td>\n",
              "      <td>NaN</td>\n",
              "      <td>NaN</td>\n",
              "      <td>NaN</td>\n",
              "      <td>NaN</td>\n",
              "      <td>0</td>\n",
              "    </tr>\n",
              "    <tr>\n",
              "      <th>29958</th>\n",
              "      <td>An axiomatic basis for Blackwell optimality</td>\n",
              "      <td>In the theory of Markov decision processes (...</td>\n",
              "      <td>NaN</td>\n",
              "      <td>NaN</td>\n",
              "      <td>NaN</td>\n",
              "      <td>NaN</td>\n",
              "      <td>NaN</td>\n",
              "      <td>NaN</td>\n",
              "      <td>0</td>\n",
              "    </tr>\n",
              "    <tr>\n",
              "      <th>29959</th>\n",
              "      <td>GeneVis - An interactive visualization tool fo...</td>\n",
              "      <td>GeneVis is a web-based tool to visualize com...</td>\n",
              "      <td>NaN</td>\n",
              "      <td>NaN</td>\n",
              "      <td>NaN</td>\n",
              "      <td>NaN</td>\n",
              "      <td>NaN</td>\n",
              "      <td>NaN</td>\n",
              "      <td>0</td>\n",
              "    </tr>\n",
              "    <tr>\n",
              "      <th>29960</th>\n",
              "      <td>Quantifying the causal effect of speed cameras...</td>\n",
              "      <td>This paper quantifies the effect of speed ca...</td>\n",
              "      <td>NaN</td>\n",
              "      <td>NaN</td>\n",
              "      <td>NaN</td>\n",
              "      <td>NaN</td>\n",
              "      <td>NaN</td>\n",
              "      <td>NaN</td>\n",
              "      <td>0</td>\n",
              "    </tr>\n",
              "    <tr>\n",
              "      <th>29961</th>\n",
              "      <td>Cube-magic labelings of grids</td>\n",
              "      <td>We show that the vertices and edges of a $d$...</td>\n",
              "      <td>NaN</td>\n",
              "      <td>NaN</td>\n",
              "      <td>NaN</td>\n",
              "      <td>NaN</td>\n",
              "      <td>NaN</td>\n",
              "      <td>NaN</td>\n",
              "      <td>0</td>\n",
              "    </tr>\n",
              "  </tbody>\n",
              "</table>\n",
              "<p>29961 rows × 9 columns</p>\n",
              "</div>"
            ],
            "text/plain": [
              "                                                   TITLE  ... train\n",
              "ID                                                        ...      \n",
              "1            Reconstructing Subject-Specific Effect Maps  ...     1\n",
              "2                     Rotation Invariance Neural Network  ...     1\n",
              "3      Spherical polyharmonics and Poisson kernels fo...  ...     1\n",
              "4      A finite element approximation for the stochas...  ...     1\n",
              "5      Comparative study of Discrete Wavelet Transfor...  ...     1\n",
              "...                                                  ...  ...   ...\n",
              "29957  Supporting mixed-datatype matrix multiplicatio...  ...     0\n",
              "29958        An axiomatic basis for Blackwell optimality  ...     0\n",
              "29959  GeneVis - An interactive visualization tool fo...  ...     0\n",
              "29960  Quantifying the causal effect of speed cameras...  ...     0\n",
              "29961                      Cube-magic labelings of grids  ...     0\n",
              "\n",
              "[29961 rows x 9 columns]"
            ]
          },
          "metadata": {
            "tags": []
          },
          "execution_count": 31
        }
      ]
    },
    {
      "cell_type": "markdown",
      "metadata": {
        "id": "B9U7pk52VK7C",
        "colab_type": "text"
      },
      "source": [
        "#Reading data"
      ]
    },
    {
      "cell_type": "code",
      "metadata": {
        "id": "2BPoBDu5UsUH",
        "colab_type": "code",
        "colab": {
          "base_uri": "https://localhost:8080/",
          "height": 70
        },
        "outputId": "a9570b2e-6ae9-4687-ae0d-1b2042f1271b"
      },
      "source": [
        "df.iloc[10]['ABSTRACT'], df.iloc[10]['TITLE']"
      ],
      "execution_count": 39,
      "outputs": [
        {
          "output_type": "execute_result",
          "data": {
            "text/plain": [
              "('  We present a systematic global sensitivity analysis using the Sobol method\\nwhich can be utilized to rank the variables that affect two quantity of\\ninterests -- pore pressure depletion and stress change -- around a\\nhydraulically-fractured horizontal well based on their degree of importance.\\nThese variables include rock properties and stimulation design variables. A\\nfully-coupled poroelastic hydraulic fracture model is used to account for pore\\npressure and stress changes due to production. To ease the computational cost\\nof a simulator, we also provide reduced order models (ROMs), which can be used\\nto replace the complex numerical model with a rather simple analytical model,\\nfor calculating the pore pressure and stresses at different locations around\\nhydraulic fractures. The main findings of this research are: (i) mobility,\\nproduction pressure, and fracture half-length are the main contributors to the\\nchanges in the quantities of interest. The percentage of the contribution of\\neach parameter depends on the location with respect to pre-existing hydraulic\\nfractures and the quantity of interest. (ii) As the time progresses, the effect\\nof mobility decreases and the effect of production pressure increases. (iii)\\nThese two variables are also dominant for horizontal stresses at large\\ndistances from hydraulic fractures. (iv) At zones close to hydraulic fracture\\ntips or inside the spacing area, other parameters such as fracture spacing and\\nhalf-length are the dominant factors that affect the minimum horizontal stress.\\nThe results of this study will provide useful guidelines for the stimulation\\ndesign of legacy wells and secondary operations such as refracturing and infill\\ndrilling.\\n',\n",
              " 'A global sensitivity analysis and reduced order models for hydraulically-fractured horizontal wells')"
            ]
          },
          "metadata": {
            "tags": []
          },
          "execution_count": 39
        }
      ]
    },
    {
      "cell_type": "markdown",
      "metadata": {
        "id": "wEWYoFoXbO04",
        "colab_type": "text"
      },
      "source": [
        "#Y"
      ]
    },
    {
      "cell_type": "code",
      "metadata": {
        "id": "KzX6QfqRbZog",
        "colab_type": "code",
        "colab": {}
      },
      "source": [
        "Y=df[df.train==1].iloc[:,2:-1]"
      ],
      "execution_count": 43,
      "outputs": []
    },
    {
      "cell_type": "code",
      "metadata": {
        "id": "1_u1vElKbGgM",
        "colab_type": "code",
        "colab": {
          "base_uri": "https://localhost:8080/",
          "height": 162
        },
        "outputId": "dd0c57a1-82c1-4d22-cb59-792301295a29"
      },
      "source": [
        "np.asarray(Y)"
      ],
      "execution_count": 49,
      "outputs": [
        {
          "output_type": "error",
          "ename": "NameError",
          "evalue": "ignored",
          "traceback": [
            "\u001b[0;31m---------------------------------------------------------------------------\u001b[0m",
            "\u001b[0;31mNameError\u001b[0m                                 Traceback (most recent call last)",
            "\u001b[0;32m<ipython-input-49-cebb23589fd3>\u001b[0m in \u001b[0;36m<module>\u001b[0;34m()\u001b[0m\n\u001b[0;32m----> 1\u001b[0;31m \u001b[0mnp\u001b[0m\u001b[0;34m.\u001b[0m\u001b[0masarray\u001b[0m\u001b[0;34m(\u001b[0m\u001b[0mY\u001b[0m\u001b[0;34m)\u001b[0m\u001b[0;34m\u001b[0m\u001b[0;34m\u001b[0m\u001b[0m\n\u001b[0m",
            "\u001b[0;31mNameError\u001b[0m: name 'np' is not defined"
          ]
        }
      ]
    },
    {
      "cell_type": "markdown",
      "metadata": {
        "id": "WIGo6bSEebS2",
        "colab_type": "text"
      },
      "source": [
        ""
      ]
    },
    {
      "cell_type": "code",
      "metadata": {
        "id": "Ad0-A72ZYXJB",
        "colab_type": "code",
        "colab": {}
      },
      "source": [
        ""
      ],
      "execution_count": null,
      "outputs": []
    }
  ]
}